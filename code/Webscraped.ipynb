{
 "cells": [
  {
   "cell_type": "code",
   "execution_count": 1,
   "metadata": {},
   "outputs": [],
   "source": [
    "from __future__ import print_function, division\n",
    "import requests\n",
    "from bs4 import BeautifulSoup"
   ]
  },
  {
   "cell_type": "code",
   "execution_count": null,
   "metadata": {},
   "outputs": [],
   "source": [
    "from selenium import webdriver\n",
    "from selenium.webdriver.common.keys import Keys\n",
    "from selenium.webdriver.chrome.options import Options\n",
    "\n",
    "import time\n",
    "\n",
    "import chromedriver_binary"
   ]
  },
  {
   "cell_type": "code",
   "execution_count": null,
   "metadata": {},
   "outputs": [],
   "source": [
    "from fake_useragent import UserAgent"
   ]
  },
  {
   "cell_type": "code",
   "execution_count": null,
   "metadata": {},
   "outputs": [],
   "source": [
    "opts = Options()\n",
    "\n",
    "\n",
    "driver2 = webdriver.Chrome()\n",
    "driver2.get(\"https://www.truecar.com/used-cars-for-sale/listing/19UUB1F30GA002078/2016-acura-tlx/\")"
   ]
  },
  {
   "cell_type": "code",
   "execution_count": null,
   "metadata": {},
   "outputs": [],
   "source": [
    "driver2.refresh()"
   ]
  },
  {
   "cell_type": "code",
   "execution_count": null,
   "metadata": {},
   "outputs": [],
   "source": [
    "soup = BeautifulSoup(driver2.page_source, \"lxml\")\n",
    "soup.prettify()\n",
    "soup.find(class_='body_1kffrzr link_1k351x5')['href']\n",
    "soup.find(class_='body_1kffrzr link_1k351x5')['href']"
   ]
  },
  {
   "cell_type": "code",
   "execution_count": null,
   "metadata": {},
   "outputs": [],
   "source": [
    "soup.find(class_='body_1kffrzr link_1k351x5')['href']"
   ]
  },
  {
   "cell_type": "code",
   "execution_count": null,
   "metadata": {},
   "outputs": [],
   "source": [
    "soup2 = soup.find_all(class_='body_1kffrzr link_1k351x5')\n",
    "list_urls = []\n",
    "for x in soup2:\n",
    "    list_urls.append(x['href'])\n",
    "list_urls"
   ]
  },
  {
   "cell_type": "code",
   "execution_count": null,
   "metadata": {},
   "outputs": [],
   "source": [
    "soup.find(class_='body_1kffrzr link_1k351x5')['href']"
   ]
  },
  {
   "cell_type": "code",
   "execution_count": null,
   "metadata": {},
   "outputs": [],
   "source": [
    "for url in list_urls:\n",
    "    driver2.get('https://www.truecar.com' + url)"
   ]
  },
  {
   "cell_type": "code",
   "execution_count": null,
   "metadata": {},
   "outputs": [],
   "source": [
    "car_features_page1 = []\n",
    "    \n",
    "for url in list_urls:\n",
    "        \n",
    "    driver2.get('https://www.truecar.com' + url)\n",
    "    driver2.refresh()   \n",
    "    location = driver2.find_element_by_xpath('//*[@id=\"main\"]/div[2]/div/div[4]/div/div/div/div/h1/div[3]/ul/li[1]/span').text\n",
    "    drive_type = driver2.find_element_by_xpath('//*[@id=\"main\"]/div[2]/div/div[5]/div[2]/div[1]/div[1]/div/div[7]/div/div[2]/ul/li').text\n",
    "    transmission = driver2.find_element_by_xpath('//*[@id=\"main\"]/div[2]/div/div[5]/div[2]/div[1]/div[1]/div/div[6]/div/div[2]/ul/li').text\n",
    "    engine = driver2.find_element_by_xpath('//*[@id=\"main\"]/div[2]/div/div[5]/div[2]/div[1]/div[1]/div/div[5]/div/div[2]/ul/li').text\n",
    "    style = driver2.find_element_by_xpath('//*[@id=\"main\"]/div[2]/div/div[5]/div[2]/div[1]/div[1]/div/div[2]/div/div[2]/ul/li').text\n",
    "    interior_color = driver2.find_element_by_xpath('//*[@id=\"main\"]/div[2]/div/div[5]/div[2]/div[1]/div[1]/div/div[3]/div/div[2]/ul/li').text\n",
    "    exterior_color = driver2.find_element_by_xpath('//*[@id=\"main\"]/div[2]/div/div[5]/div[2]/div[1]/div[1]/div/div[1]/div/div[2]/ul/li').text\n",
    "    year_make_model = driver2.find_element_by_xpath('//*[@id=\"main\"]/div[2]/div/div[4]/div/div/div/div/h1/div[1]/div[1]').text.split(' ')\n",
    "    year = year_make_model[0]\n",
    "    make = year_make_model[1]\n",
    "    model = year_make_model[2]\n",
    "    mpg = driver2.find_element_by_xpath('//*[@id=\"main\"]/div[2]/div/div[5]/div[2]/div[1]/div[1]/div/div[4]/div/div[2]/ul/li').text.split('/')\n",
    "    mpg_city = int(mpg[0][0:2])\n",
    "    mpg_hwy = int(mpg[1][1:3])\n",
    "    fuel_type = driver2.find_element_by_xpath('//*[@id=\"main\"]/div[2]/div/div[5]/div[2]/div[1]/div[1]/div/div[8]/div/div[2]/ul/li').text\n",
    "    price = int(driver2.find_element_by_xpath('//*[@id=\"main\"]/div[2]/div/div[5]/div[1]/div[2]/div/div/div[1]/div[2]/span').text.replace(',','').replace('$','')\n",
    "    mileage = int(driver2.find_element_by_xpath('//*[@id=\"main\"]/div[2]/div/div[5]/div[2]/div[1]/div[1]/div/div[9]/div/div[2]/ul/li').text.replace(',','')\n",
    "\n",
    "    print(car_features = {'price': price, 'year': year, 'make': make, 'model': model,\n",
    "                    'mileage': mileage, 'mpg_city': mpg_city, 'mpg_hwy': mpg_hwy,\n",
    "                    'drive_type': drive_type, 'engine': engine,\n",
    "                    'transmission': transmission, 'fuel_type': fuel_type,\n",
    "                    'interior_color': interior_color,\n",
    "                    'exterior_color': exterior_color})\n",
    "\n",
    "    car_features_page1.append(car_features)\n",
    "\n",
    "    time.sleep(10)  "
   ]
  },
  {
   "cell_type": "code",
   "execution_count": null,
   "metadata": {},
   "outputs": [],
   "source": [
    "cars = car_features_page1"
   ]
  },
  {
   "cell_type": "code",
   "execution_count": null,
   "metadata": {},
   "outputs": [],
   "source": [
    "import pandas as pd\n",
    "tlxfwd3 = pd.DataFrame(cars)"
   ]
  },
  {
   "cell_type": "code",
   "execution_count": null,
   "metadata": {},
   "outputs": [],
   "source": [
    "import pickle\n",
    "tlxfwd3.to_pickle('tlxfwd3.pickle')"
   ]
  }
 ],
 "metadata": {
  "kernelspec": {
   "display_name": "Python [conda env:metis] *",
   "language": "python",
   "name": "conda-env-metis-py"
  },
  "language_info": {
   "codemirror_mode": {
    "name": "ipython",
    "version": 3
   },
   "file_extension": ".py",
   "mimetype": "text/x-python",
   "name": "python",
   "nbconvert_exporter": "python",
   "pygments_lexer": "ipython3",
   "version": "3.7.3"
  }
 },
 "nbformat": 4,
 "nbformat_minor": 2
}
