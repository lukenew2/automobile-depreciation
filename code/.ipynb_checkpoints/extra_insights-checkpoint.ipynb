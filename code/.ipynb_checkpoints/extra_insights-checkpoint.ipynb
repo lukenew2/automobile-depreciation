{
 "cells": [
  {
   "cell_type": "code",
   "execution_count": 1,
   "metadata": {},
   "outputs": [],
   "source": [
    "import pandas as pd\n",
    "import numpy as np\n",
    "import seaborn as sns\n",
    "import matplotlib.pyplot as plt\n",
    "import matplotlib.path as mpath\n",
    "\n",
    "from sklearn.model_selection import train_test_split\n",
    "from sklearn.linear_model import LinearRegression, Lasso, LassoCV, Ridge, RidgeCV\n",
    "from sklearn.metrics import r2_score\n",
    "from sklearn.pipeline import Pipeline\n",
    "from sklearn.preprocessing import StandardScaler\n",
    "from sklearn.preprocessing import PolynomialFeatures\n",
    "from sklearn.pipeline import make_pipeline\n",
    "from sklearn.model_selection import KFold\n",
    "from sklearn.model_selection import cross_val_score"
   ]
  },
  {
   "cell_type": "code",
   "execution_count": 2,
   "metadata": {},
   "outputs": [],
   "source": [
    "tlxfwd1 = pd.read_pickle('/Users/luken2/Documents/GitHub/car-leases/data/tlxfwd.pickle')\n",
    "tlxfwd2 = pd.read_pickle('/Users/luken2/Documents/GitHub/car-leases/data/tlxfwd2.pickle')\n",
    "tlxfwd3 = pd.read_pickle('/Users/luken2/Documents/GitHub/car-leases/data/tlxfwd3.pickle')\n",
    "tlxfwd = pd.concat([tlxfwd1, tlxfwd2, tlxfwd3])"
   ]
  },
  {
   "cell_type": "code",
   "execution_count": 3,
   "metadata": {},
   "outputs": [
    {
     "name": "stdout",
     "output_type": "stream",
     "text": [
      "<class 'pandas.core.frame.DataFrame'>\n",
      "RangeIndex: 468 entries, 0 to 467\n",
      "Data columns (total 15 columns):\n",
      "price             468 non-null int64\n",
      "year              468 non-null object\n",
      "make              468 non-null object\n",
      "model             468 non-null object\n",
      "mileage           468 non-null int64\n",
      "mpg_city          468 non-null int64\n",
      "mpg_hwy           468 non-null int64\n",
      "drive_type        468 non-null object\n",
      "engine            468 non-null object\n",
      "transmission      468 non-null object\n",
      "style             465 non-null object\n",
      "fuel_type         468 non-null object\n",
      "interior_color    468 non-null object\n",
      "exterior_color    468 non-null object\n",
      "location          468 non-null object\n",
      "dtypes: int64(4), object(11)\n",
      "memory usage: 55.0+ KB\n"
     ]
    }
   ],
   "source": [
    "tlxfwd.reset_index(drop=True, inplace=True)\n",
    "tlxfwd.info()"
   ]
  },
  {
   "cell_type": "code",
   "execution_count": 4,
   "metadata": {},
   "outputs": [],
   "source": [
    "tlxfwd.dropna(inplace=True)"
   ]
  },
  {
   "cell_type": "code",
   "execution_count": 5,
   "metadata": {},
   "outputs": [],
   "source": [
    "tlxfwd.reset_index(inplace=True, drop=True)"
   ]
  },
  {
   "cell_type": "code",
   "execution_count": 6,
   "metadata": {},
   "outputs": [
    {
     "data": {
      "text/plain": [
       "FWD                                 150\n",
       "FWD with Technology Package         128\n",
       "2.4L FWD with Technology Package     57\n",
       "2.4L FWD                             53\n",
       "I4 FWD                               39\n",
       "I4 FWD with Technology Package       37\n",
       "2.4L FWD with A-Spec Package          1\n",
       "Name: style, dtype: int64"
      ]
     },
     "execution_count": 6,
     "metadata": {},
     "output_type": "execute_result"
    }
   ],
   "source": [
    "tlxfwd['style'].value_counts()"
   ]
  },
  {
   "cell_type": "code",
   "execution_count": 7,
   "metadata": {},
   "outputs": [],
   "source": [
    "new_column = []\n",
    "# loops through each row in the column 'style'\n",
    "for style in tlxfwd['style']:\n",
    "        \n",
    "# Creates a list called new_column with each value\n",
    "# being the cars package and creates a Pandas Series called package\n",
    "        \n",
    "    if 'Technology Package' in str(style):            \n",
    "        new_column.append('Technology Package')\n",
    "        \n",
    "    elif 'A-Spec' and 'Package' in str(style):\n",
    "        new_column.append('A-Spec Package')\n",
    "        \n",
    "    else:\n",
    "        new_column.append('Standard Package')\n",
    "            \n",
    "    package = pd.Series(new_column)\n",
    "        \n",
    "tlxfwd['package'] = package"
   ]
  },
  {
   "cell_type": "code",
   "execution_count": 9,
   "metadata": {},
   "outputs": [
    {
     "data": {
      "text/html": [
       "<div>\n",
       "<style scoped>\n",
       "    .dataframe tbody tr th:only-of-type {\n",
       "        vertical-align: middle;\n",
       "    }\n",
       "\n",
       "    .dataframe tbody tr th {\n",
       "        vertical-align: top;\n",
       "    }\n",
       "\n",
       "    .dataframe thead th {\n",
       "        text-align: right;\n",
       "    }\n",
       "</style>\n",
       "<table border=\"1\" class=\"dataframe\">\n",
       "  <thead>\n",
       "    <tr style=\"text-align: right;\">\n",
       "      <th></th>\n",
       "      <th>price</th>\n",
       "      <th>year</th>\n",
       "      <th>make</th>\n",
       "      <th>model</th>\n",
       "      <th>mileage</th>\n",
       "      <th>mpg_city</th>\n",
       "      <th>mpg_hwy</th>\n",
       "      <th>drive_type</th>\n",
       "      <th>engine</th>\n",
       "      <th>transmission</th>\n",
       "      <th>style</th>\n",
       "      <th>fuel_type</th>\n",
       "      <th>interior_color</th>\n",
       "      <th>exterior_color</th>\n",
       "      <th>location</th>\n",
       "      <th>package</th>\n",
       "    </tr>\n",
       "  </thead>\n",
       "  <tbody>\n",
       "    <tr>\n",
       "      <td>0</td>\n",
       "      <td>19390</td>\n",
       "      <td>2016</td>\n",
       "      <td>Acura</td>\n",
       "      <td>TLX</td>\n",
       "      <td>33710</td>\n",
       "      <td>24</td>\n",
       "      <td>35</td>\n",
       "      <td>FWD</td>\n",
       "      <td>2.4L Inline-4 Gas</td>\n",
       "      <td>Automatic</td>\n",
       "      <td>FWD with Technology Package</td>\n",
       "      <td>Gas</td>\n",
       "      <td>Black</td>\n",
       "      <td>Gray</td>\n",
       "      <td>Marietta, GA</td>\n",
       "      <td>Technology Package</td>\n",
       "    </tr>\n",
       "    <tr>\n",
       "      <td>1</td>\n",
       "      <td>23691</td>\n",
       "      <td>2018</td>\n",
       "      <td>Acura</td>\n",
       "      <td>TLX</td>\n",
       "      <td>29328</td>\n",
       "      <td>23</td>\n",
       "      <td>33</td>\n",
       "      <td>FWD</td>\n",
       "      <td>2.4L Inline-4 Gas</td>\n",
       "      <td>Automatic</td>\n",
       "      <td>2.4L FWD with Technology Package</td>\n",
       "      <td>Gas</td>\n",
       "      <td>Ebony</td>\n",
       "      <td>Crystal Black Pearl</td>\n",
       "      <td>Henderson, NV</td>\n",
       "      <td>Technology Package</td>\n",
       "    </tr>\n",
       "    <tr>\n",
       "      <td>2</td>\n",
       "      <td>16789</td>\n",
       "      <td>2016</td>\n",
       "      <td>Acura</td>\n",
       "      <td>TLX</td>\n",
       "      <td>33686</td>\n",
       "      <td>24</td>\n",
       "      <td>35</td>\n",
       "      <td>FWD</td>\n",
       "      <td>2.4L Inline-4 Gas</td>\n",
       "      <td>Automatic</td>\n",
       "      <td>FWD</td>\n",
       "      <td>Gas</td>\n",
       "      <td>Graystone</td>\n",
       "      <td>Slate Silver Metallic</td>\n",
       "      <td>Apex, NC</td>\n",
       "      <td>Standard Package</td>\n",
       "    </tr>\n",
       "    <tr>\n",
       "      <td>3</td>\n",
       "      <td>16484</td>\n",
       "      <td>2016</td>\n",
       "      <td>Acura</td>\n",
       "      <td>TLX</td>\n",
       "      <td>14172</td>\n",
       "      <td>24</td>\n",
       "      <td>35</td>\n",
       "      <td>FWD</td>\n",
       "      <td>2.4L Inline-4 Gas</td>\n",
       "      <td>Automatic</td>\n",
       "      <td>FWD</td>\n",
       "      <td>Gas</td>\n",
       "      <td>Unknown</td>\n",
       "      <td>Black Copper Pearl</td>\n",
       "      <td>Seffner, FL</td>\n",
       "      <td>Standard Package</td>\n",
       "    </tr>\n",
       "    <tr>\n",
       "      <td>4</td>\n",
       "      <td>15999</td>\n",
       "      <td>2016</td>\n",
       "      <td>Acura</td>\n",
       "      <td>TLX</td>\n",
       "      <td>24076</td>\n",
       "      <td>24</td>\n",
       "      <td>35</td>\n",
       "      <td>FWD</td>\n",
       "      <td>2.4L Inline-4 Gas</td>\n",
       "      <td>Automatic</td>\n",
       "      <td>FWD</td>\n",
       "      <td>Gas</td>\n",
       "      <td>Black</td>\n",
       "      <td>Gray</td>\n",
       "      <td>Atlanta, GA</td>\n",
       "      <td>Standard Package</td>\n",
       "    </tr>\n",
       "  </tbody>\n",
       "</table>\n",
       "</div>"
      ],
      "text/plain": [
       "   price  year   make model  mileage  mpg_city  mpg_hwy drive_type  \\\n",
       "0  19390  2016  Acura   TLX    33710        24       35        FWD   \n",
       "1  23691  2018  Acura   TLX    29328        23       33        FWD   \n",
       "2  16789  2016  Acura   TLX    33686        24       35        FWD   \n",
       "3  16484  2016  Acura   TLX    14172        24       35        FWD   \n",
       "4  15999  2016  Acura   TLX    24076        24       35        FWD   \n",
       "\n",
       "              engine transmission                             style fuel_type  \\\n",
       "0  2.4L Inline-4 Gas    Automatic       FWD with Technology Package       Gas   \n",
       "1  2.4L Inline-4 Gas    Automatic  2.4L FWD with Technology Package       Gas   \n",
       "2  2.4L Inline-4 Gas    Automatic                               FWD       Gas   \n",
       "3  2.4L Inline-4 Gas    Automatic                               FWD       Gas   \n",
       "4  2.4L Inline-4 Gas    Automatic                               FWD       Gas   \n",
       "\n",
       "  interior_color         exterior_color       location             package  \n",
       "0          Black                   Gray   Marietta, GA  Technology Package  \n",
       "1          Ebony    Crystal Black Pearl  Henderson, NV  Technology Package  \n",
       "2      Graystone  Slate Silver Metallic       Apex, NC    Standard Package  \n",
       "3        Unknown     Black Copper Pearl    Seffner, FL    Standard Package  \n",
       "4          Black                   Gray    Atlanta, GA    Standard Package  "
      ]
     },
     "execution_count": 9,
     "metadata": {},
     "output_type": "execute_result"
    }
   ],
   "source": [
    "tlxfwd.head()"
   ]
  },
  {
   "cell_type": "code",
   "execution_count": 10,
   "metadata": {},
   "outputs": [],
   "source": [
    "new_column2 = []\n",
    "# loops through each row in the column 'style'\n",
    "for year in tlxfwd['year']:\n",
    "        \n",
    "# Creates a list called new_column2 with each value\n",
    "# being the a number 0-3 associated with the year, {2016: 0, 2017: 1, 2018: 2, 2019: 3}.\n",
    "       \n",
    "    if '2016' in str(year):            \n",
    "        new_column2.append(0)\n",
    "    elif '2017' in str(year):\n",
    "        new_column2.append(1)\n",
    "    elif '2018' in str(year):\n",
    "        new_column2.append(2)\n",
    "    elif '2019' in str(year):\n",
    "        new_column2.append(3)\n",
    "            \n",
    "    color = pd.Series(new_column2)\n",
    "        \n",
    "tlxfwd['color_num'] = color"
   ]
  },
  {
   "cell_type": "code",
   "execution_count": 11,
   "metadata": {},
   "outputs": [],
   "source": [
    "del tlxfwd['style']"
   ]
  },
  {
   "cell_type": "code",
   "execution_count": 12,
   "metadata": {},
   "outputs": [],
   "source": [
    "tlx = tlxfwd.loc[:,['price', 'year', 'mileage', 'drive_type', 'engine', 'package', 'color_num']]"
   ]
  },
  {
   "cell_type": "code",
   "execution_count": 13,
   "metadata": {},
   "outputs": [],
   "source": [
    "tlx['year'] = pd.to_numeric(tlx['year'])"
   ]
  },
  {
   "cell_type": "code",
   "execution_count": 14,
   "metadata": {},
   "outputs": [
    {
     "name": "stdout",
     "output_type": "stream",
     "text": [
      "<class 'pandas.core.frame.DataFrame'>\n",
      "RangeIndex: 465 entries, 0 to 464\n",
      "Data columns (total 7 columns):\n",
      "price         465 non-null int64\n",
      "year          465 non-null int64\n",
      "mileage       465 non-null int64\n",
      "drive_type    465 non-null object\n",
      "engine        465 non-null object\n",
      "package       465 non-null object\n",
      "color_num     465 non-null int64\n",
      "dtypes: int64(4), object(3)\n",
      "memory usage: 25.6+ KB\n"
     ]
    }
   ],
   "source": [
    "tlx.info()"
   ]
  },
  {
   "cell_type": "code",
   "execution_count": 168,
   "metadata": {},
   "outputs": [],
   "source": [
    "tech = tlx.loc[(tlx['package'] == 'Technology Package')]\n",
    "standard = tlx.loc[(tlx['package'] == 'Standard Package')]"
   ]
  },
  {
   "cell_type": "markdown",
   "metadata": {},
   "source": [
    "## TLX Depreciation with Standard Package"
   ]
  },
  {
   "cell_type": "code",
   "execution_count": 169,
   "metadata": {},
   "outputs": [
    {
     "name": "stderr",
     "output_type": "stream",
     "text": [
      "//anaconda3/envs/metis/lib/python3.7/site-packages/ipykernel_launcher.py:1: SettingWithCopyWarning: \n",
      "A value is trying to be set on a copy of a slice from a DataFrame.\n",
      "Try using .loc[row_indexer,col_indexer] = value instead\n",
      "\n",
      "See the caveats in the documentation: http://pandas.pydata.org/pandas-docs/stable/user_guide/indexing.html#returning-a-view-versus-a-copy\n",
      "  \"\"\"Entry point for launching an IPython kernel.\n"
     ]
    }
   ],
   "source": [
    "standard['mileage_year'] = standard['mileage'] * standard['year']"
   ]
  },
  {
   "cell_type": "code",
   "execution_count": 170,
   "metadata": {},
   "outputs": [],
   "source": [
    "new_cars = [{'price': 33995, 'year': 2020, 'mileage': 0, 'drive_type': 'FWD', \n",
    "           'engine': '2.4L Inline-4 Gas', 'package': 'Standard Package', 'color_num': 5,\n",
    "            'mileage_year': 0}, \n",
    "           {'price': 33995, 'year': 2020, 'mileage': 0, 'drive_type': 'FWD', \n",
    "           'engine': '2.4L Inline-4 Gas', 'package': 'Standard Package', 'color_num': 5,\n",
    "            'mileage_year': 0}, \n",
    "           {'price': 33995, 'year': 2020, 'mileage': 0, 'drive_type': 'FWD', \n",
    "           'engine': '2.4L Inline-4 Gas', 'package': 'Standard Package', 'color_num': 5,\n",
    "            'mileage_year': 0}, \n",
    "           {'price': 33995, 'year': 2020, 'mileage': 0, 'drive_type': 'FWD', \n",
    "           'engine': '2.4L Inline-4 Gas', 'package': 'Standard Package', 'color_num': 5,\n",
    "            'mileage_year': 0}, \n",
    "           {'price': 33995, 'year': 2020, 'mileage': 0, 'drive_type': 'FWD', \n",
    "           'engine': '2.4L Inline-4 Gas', 'package': 'Standard Package', 'color_num': 5,\n",
    "            'mileage_year': 0},\n",
    "           {'price': 33995, 'year': 2020, 'mileage': 0, 'drive_type': 'FWD', \n",
    "           'engine': '2.4L Inline-4 Gas', 'package': 'Standard Package', 'color_num': 5,\n",
    "            'mileage_year': 0},\n",
    "           {'price': 33995, 'year': 2020, 'mileage': 0, 'drive_type': 'FWD', \n",
    "           'engine': '2.4L Inline-4 Gas', 'package': 'Standard Package', 'color_num': 5,\n",
    "            'mileage_year': 0},\n",
    "           {'price': 33995, 'year': 2020, 'mileage': 0, 'drive_type': 'FWD', \n",
    "           'engine': '2.4L Inline-4 Gas', 'package': 'Standard Package', 'color_num': 5,\n",
    "            'mileage_year': 0},\n",
    "           {'price': 33995, 'year': 2020, 'mileage': 0, 'drive_type': 'FWD', \n",
    "           'engine': '2.4L Inline-4 Gas', 'package': 'Standard Package', 'color_num': 5,\n",
    "            'mileage_year': 0},\n",
    "           {'price': 33995, 'year': 2020, 'mileage': 0, 'drive_type': 'FWD', \n",
    "           'engine': '2.4L Inline-4 Gas', 'package': 'Standard Package', 'color_num': 5,\n",
    "            'mileage_year': 0},\n",
    "           {'price': 33995, 'year': 2020, 'mileage': 0, 'drive_type': 'FWD', \n",
    "           'engine': '2.4L Inline-4 Gas', 'package': 'Standard Package', 'color_num': 5,\n",
    "            'mileage_year': 0},\n",
    "           {'price': 33995, 'year': 2020, 'mileage': 0, 'drive_type': 'FWD', \n",
    "           'engine': '2.4L Inline-4 Gas', 'package': 'Standard Package', 'color_num': 5,\n",
    "            'mileage_year': 0},\n",
    "           {'price': 33995, 'year': 2020, 'mileage': 0, 'drive_type': 'FWD', \n",
    "           'engine': '2.4L Inline-4 Gas', 'package': 'Standard Package', 'color_num': 5,\n",
    "            'mileage_year': 0},\n",
    "           {'price': 33995, 'year': 2020, 'mileage': 0, 'drive_type': 'FWD', \n",
    "           'engine': '2.4L Inline-4 Gas', 'package': 'Standard Package', 'color_num': 5,\n",
    "            'mileage_year': 0},\n",
    "           {'price': 33995, 'year': 2020, 'mileage': 0, 'drive_type': 'FWD', \n",
    "           'engine': '2.4L Inline-4 Gas', 'package': 'Standard Package', 'color_num': 5,\n",
    "            'mileage_year': 0},\n",
    "           {'price': 33995, 'year': 2020, 'mileage': 0, 'drive_type': 'FWD', \n",
    "           'engine': '2.4L Inline-4 Gas', 'package': 'Standard Package', 'color_num': 5,\n",
    "            'mileage_year': 0},\n",
    "           {'price': 33995, 'year': 2020, 'mileage': 0, 'drive_type': 'FWD', \n",
    "           'engine': '2.4L Inline-4 Gas', 'package': 'Standard Package', 'color_num': 5,\n",
    "            'mileage_year': 0},\n",
    "           {'price': 33995, 'year': 2020, 'mileage': 0, 'drive_type': 'FWD', \n",
    "           'engine': '2.4L Inline-4 Gas', 'package': 'Standard Package', 'color_num': 5,\n",
    "            'mileage_year': 0},\n",
    "           {'price': 33995, 'year': 2020, 'mileage': 0, 'drive_type': 'FWD', \n",
    "           'engine': '2.4L Inline-4 Gas', 'package': 'Standard Package', 'color_num': 5,\n",
    "            'mileage_year': 0},\n",
    "           {'price': 33995, 'year': 2020, 'mileage': 0, 'drive_type': 'FWD', \n",
    "           'engine': '2.4L Inline-4 Gas', 'package': 'Standard Package', 'color_num': 5,\n",
    "            'mileage_year': 0},\n",
    "           {'price': 33995, 'year': 2020, 'mileage': 0, 'drive_type': 'FWD', \n",
    "           'engine': '2.4L Inline-4 Gas', 'package': 'Standard Package', 'color_num': 5,\n",
    "            'mileage_year': 0},\n",
    "           {'price': 33995, 'year': 2020, 'mileage': 0, 'drive_type': 'FWD', \n",
    "           'engine': '2.4L Inline-4 Gas', 'package': 'Standard Package', 'color_num': 5,\n",
    "            'mileage_year': 0},\n",
    "           {'price': 33995, 'year': 2020, 'mileage': 0, 'drive_type': 'FWD', \n",
    "           'engine': '2.4L Inline-4 Gas', 'package': 'Standard Package', 'color_num': 5,\n",
    "            'mileage_year': 0},\n",
    "           {'price': 33995, 'year': 2020, 'mileage': 0, 'drive_type': 'FWD', \n",
    "           'engine': '2.4L Inline-4 Gas', 'package': 'Standard Package', 'color_num': 5,\n",
    "            'mileage_year': 0}]"
   ]
  },
  {
   "cell_type": "code",
   "execution_count": 171,
   "metadata": {},
   "outputs": [],
   "source": [
    "standard = pd.concat([standard, pd.DataFrame(new_cars)])"
   ]
  },
  {
   "cell_type": "code",
   "execution_count": 172,
   "metadata": {},
   "outputs": [],
   "source": [
    "y_standard = standard['price']\n",
    "X_standard = standard.loc[:,['mileage', 'year', 'mileage_year']]"
   ]
  },
  {
   "cell_type": "code",
   "execution_count": 173,
   "metadata": {},
   "outputs": [],
   "source": [
    "X_standard_train_val, X_standard_test, y_standard_train_val, y_standard_test = train_test_split(X_standard, y_standard, test_size=0.2,random_state=41)\n",
    "X_standard_train, X_standard_val, y_standard_train, y_standard_val = train_test_split(X_standard_train_val, y_standard_train_val, test_size=.25, random_state=43)"
   ]
  },
  {
   "cell_type": "code",
   "execution_count": 174,
   "metadata": {},
   "outputs": [
    {
     "data": {
      "text/plain": [
       "0.947068821262603"
      ]
     },
     "execution_count": 174,
     "metadata": {},
     "output_type": "execute_result"
    }
   ],
   "source": [
    "degree = 2\n",
    "poly_model = make_pipeline(PolynomialFeatures(degree), LinearRegression())\n",
    "poly_model.fit(X_standard_train, y_standard_train)\n",
    "poly_model.score(X_standard_val, y_standard_val)"
   ]
  },
  {
   "cell_type": "code",
   "execution_count": 177,
   "metadata": {},
   "outputs": [
    {
     "data": {
      "text/plain": [
       "0.9356775709487962"
      ]
     },
     "execution_count": 177,
     "metadata": {},
     "output_type": "execute_result"
    }
   ],
   "source": [
    "poly_model.fit(X_standard_train_val, y_standard_train_val)\n",
    "poly_model.score(X_standard_test, y_standard_test)"
   ]
  },
  {
   "cell_type": "code",
   "execution_count": 178,
   "metadata": {},
   "outputs": [
    {
     "data": {
      "text/plain": [
       "1012.1458547891773"
      ]
     },
     "execution_count": 178,
     "metadata": {},
     "output_type": "execute_result"
    }
   ],
   "source": [
    "mae = np.mean(abs(y_standard_test - poly_model.predict(X_standard_test)))\n",
    "mae"
   ]
  },
  {
   "cell_type": "code",
   "execution_count": 203,
   "metadata": {},
   "outputs": [
    {
     "data": {
      "image/png": "[encoded data removed]",
      "text/plain": [
       "<Figure size 432x288 with 1 Axes>"
      ]
     },
     "metadata": {
      "needs_background": "light"
     },
     "output_type": "display_data"
    }
   ],
   "source": [
    "fig4, ax4 = plt.subplots(figsize=(6,4));\n",
    "\n",
    "ax4.scatter(poly_model.predict(X_standard_test), y_standard_test)\n",
    "ax4.plot(y_standard_test, y_standard_test, color='#dd2762')\n",
    "\n",
    "ax4.set_xticks([16000, 18000, 20000, 22000, 24000, 26000, 28000, 30000, 32000, 34000])\n",
    "ax4.set_yticks([16000, 18000, 20000, 22000, 24000, 26000, 28000, 30000, 32000, 34000])\n",
    "ax4.set_yticklabels(ylabels)\n",
    "ax4.set_xticklabels(ylabels)\n",
    "ax4.spines['top'].set_visible(False)\n",
    "ax4.spines['right'].set_visible(False)\n",
    "plt.xlabel('Predicted Price in thousands', fontsize=10)\n",
    "plt.ylabel('Actual Price in thousands', fontsize=10)\n",
    "plt.title('MAE: $1012')\n",
    "fig4.savefig('plot.png');"
   ]
  },
  {
   "cell_type": "code",
   "execution_count": 180,
   "metadata": {},
   "outputs": [],
   "source": [
    "dep = np.array([[0, 2020, 0],\n",
    "                [10000, 2019, 10000*2019],\n",
    "            [20000, 2018, 20000*2018],\n",
    "            [30000, 2017, 30000*2017]])"
   ]
  },
  {
   "cell_type": "code",
   "execution_count": 181,
   "metadata": {},
   "outputs": [
    {
     "data": {
      "text/plain": [
       "array([    0.        ,  6316.27358756, 10443.57797263, 13483.99161372])"
      ]
     },
     "execution_count": 181,
     "metadata": {},
     "output_type": "execute_result"
    }
   ],
   "source": [
    "new_standard = np.array([33995, 33995, 33995, 33995])\n",
    "cost_standard = new_standard - poly_model.predict(dep)\n",
    "cost_standard[0] = 0\n",
    "cost_standard"
   ]
  },
  {
   "cell_type": "code",
   "execution_count": 182,
   "metadata": {},
   "outputs": [
    {
     "data": {
      "text/plain": [
       "array([33600.30441599, 27678.72641244, 23551.42202737, 20511.00838628])"
      ]
     },
     "execution_count": 182,
     "metadata": {},
     "output_type": "execute_result"
    }
   ],
   "source": [
    "poly_model.predict(dep)"
   ]
  },
  {
   "cell_type": "code",
   "execution_count": 206,
   "metadata": {},
   "outputs": [
    {
     "data": {
      "image/png": "[encoded data removed]",
      "text/plain": [
       "<Figure size 432x288 with 1 Axes>"
      ]
     },
     "metadata": {
      "needs_background": "light"
     },
     "output_type": "display_data"
    }
   ],
   "source": [
    "Years = ['2020', '2019', '2018', '2017']\n",
    "ylabels = ['16', '18', '20', '22', '24', '26', '28', '30', '32', '34']\n",
    "star = mpath.Path.unit_regular_star(6)\n",
    "circle = mpath.Path.unit_regular_asterisk(5)\n",
    "\n",
    "fig, ax = plt.subplots(1,1, figsize=(6,4))\n",
    "ax.plot(poly_model.predict(dep), label='Predicted', color='#dd2762', marker=star, markersize=15, markeredgecolor='black', markerfacecolor='blue')\n",
    "ax.plot([0,1.0,2.0,3.0], [17677.40]*4, label='Leasing Company', color='orange')\n",
    "ax.set_xticks([0,1.0,2.0,3.0])\n",
    "ax.set_xticklabels(Years)\n",
    "ax.set_yticks([16000, 18000, 20000, 22000, 24000, 26000, 28000, 30000, 32000, 34000])\n",
    "ax.set_yticklabels(ylabels)\n",
    "ax.spines['top'].set_visible(False)\n",
    "ax.spines['right'].set_visible(False)\n",
    "plt.xlabel('Year', fontsize=10)\n",
    "plt.ylabel('Price in thousands', fontsize=10)\n",
    "plt.title('Residual Price')\n",
    "plt.legend()\n",
    "fig.savefig('plot.png');"
   ]
  },
  {
   "cell_type": "code",
   "execution_count": 205,
   "metadata": {},
   "outputs": [
    {
     "data": {
      "image/png": "[encoded data removed]",
      "text/plain": [
       "<Figure size 432x288 with 1 Axes>"
      ]
     },
     "metadata": {
      "needs_background": "light"
     },
     "output_type": "display_data"
    }
   ],
   "source": [
    "Years = ['2020', '2019', '2018', '2017']\n",
    "star = mpath.Path.unit_regular_star(6)\n",
    "ylabels3 = ['0', '5,000', '10,000', '15,000', '20,000', '25,000']\n",
    "\n",
    "lease_2_standard = [0, 9953, 18353, 18353, 18353]\n",
    "lease_3_standard = [0, 8320, 14596, 20872, 20872]\n",
    "lease_4_standard = [0, 7883, 13655, 19427, 25199]\n",
    "\n",
    "fig2, ax2 = plt.subplots(1,1)\n",
    "ax2.plot(Years, cost_standard, label='Predicted', color='#dd2762', marker=star, markersize=15, markeredgecolor='black', markerfacecolor='blue')\n",
    "ax2.plot(Years, [33995 - 17677.40]*4, color='orange', label='Leasing Company')\n",
    "ax2.spines['top'].set_visible(False)\n",
    "ax2.spines['right'].set_visible(False)\n",
    "ax2.set_yticks([0, 5000, 10000, 15000, 20000, 25000])\n",
    "ax2.set_yticklabels(ylabels3)\n",
    "plt.xlabel('Year', fontsize=10)\n",
    "plt.ylabel('Cost ($)', fontsize=10)\n",
    "plt.title('Depreciation');\n",
    "fig2.legend()\n",
    "fig2.savefig('plot.png');"
   ]
  },
  {
   "cell_type": "code",
   "execution_count": null,
   "metadata": {},
   "outputs": [],
   "source": []
  }
 ],
 "metadata": {
  "kernelspec": {
   "display_name": "Python [conda env:metis] *",
   "language": "python",
   "name": "conda-env-metis-py"
  },
  "language_info": {
   "codemirror_mode": {
    "name": "ipython",
    "version": 3
   },
   "file_extension": ".py",
   "mimetype": "text/x-python",
   "name": "python",
   "nbconvert_exporter": "python",
   "pygments_lexer": "ipython3",
   "version": "3.7.3"
  },
  "toc": {
   "base_numbering": 1,
   "nav_menu": {},
   "number_sections": true,
   "sideBar": true,
   "skip_h1_title": false,
   "title_cell": "Table of Contents",
   "title_sidebar": "Contents",
   "toc_cell": false,
   "toc_position": {},
   "toc_section_display": true,
   "toc_window_display": false
  }
 },
 "nbformat": 4,
 "nbformat_minor": 2
}
