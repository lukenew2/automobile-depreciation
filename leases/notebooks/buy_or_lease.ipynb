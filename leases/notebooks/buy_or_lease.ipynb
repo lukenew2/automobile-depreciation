{
 "cells": [
  {
   "cell_type": "markdown",
   "metadata": {},
   "source": [
    "# Buy or Lease: Cars\n",
    "---\n",
    "\n",
    "### Project Goal\n",
    "The goal of this project is to determine whether car leases are a good deal by comparing the total expense of a lease with the depreciation cost of a car. If the lease is more expensive we can conclude that it is more cost effective to buy the car new and resell it. However, if the lease is less expensive than we conclude you should lease instead of buy.\n",
    "\n",
    "By using machine learning we predict the price of cars and use it to calculate the depreciation cost with which we compare to the cost of its lease.\n",
    "\n",
    "The metric we use is *Root-Mean-Squared-Error* (RMSE) because it gives an idea of how much error the system typically makes in its predictions, with a higher weight for large errors.\n",
    "\n",
    "So now we need data. Instead of collecting data on hundreds of different cars we only collect data on one of the best rated cars to lease, the Acura TLX. This helps us simplify the problem and if we conclude that you should buy instead of lease this car, we can conclude the same for lower rated cars."
   ]
  },
  {
   "cell_type": "code",
   "execution_count": 754,
   "metadata": {},
   "outputs": [],
   "source": [
    "# Common imports\n",
    "import numpy as np\n",
    "import os\n",
    "\n",
    "# to make this notebook's output stable across runs\n",
    "np.random.seed(42)\n",
    "\n",
    "# To plot pretty figures\n",
    "%matplotlib inline\n",
    "import matplotlib as mpl\n",
    "import matplotlib.pyplot as plt\n",
    "mpl.rc('axes', labelsize=14)\n",
    "mpl.rc('xtick', labelsize=12)\n",
    "mpl.rc('ytick', labelsize=12)\n",
    "\n",
    "# Where to save the figures\n",
    "PROJECT_ROOT_DIR = \".\"\n",
    "IMAGES_PATH = os.path.join(PROJECT_ROOT_DIR, \"images\")\n",
    "os.makedirs(IMAGES_PATH, exist_ok=True)\n",
    "\n",
    "def save_fig(fig_id, tight_layout=True, fig_extension=\"png\", resolution=300):\n",
    "    path = os.path.join(IMAGES_PATH, fig_id + \".\" + fig_extension)\n",
    "    print(\"Saving figure\", fig_id)\n",
    "    if tight_layout:\n",
    "        plt.tight_layout()\n",
    "    plt.savefig(path, format=fig_extension, dpi=resolution)\n",
    "\n",
    "# Ignore useless warnings (see SciPy issue #5998)\n",
    "import warnings\n",
    "warnings.filterwarnings(action=\"ignore\", message=\"^internal gelsd\")"
   ]
  },
  {
   "cell_type": "markdown",
   "metadata": {},
   "source": [
    "# Get the data\n",
    "\n",
    "In this project we collect our data using BeautifulSoup’s library. We webscrape Acura TLX car listings off of Truecar.com. The notebook complete with code used for webscraping can be found [here](https://github.com/lukenew2/car-leases/blob/master/collect_data_webscraping.ipynb). \n",
    "\n",
    "Let’s load in the data we collected by webscraping and take a first initial look into it."
   ]
  },
  {
   "cell_type": "code",
   "execution_count": 755,
   "metadata": {},
   "outputs": [],
   "source": [
    "import pandas as pd\n",
    "\n",
    "CARS_PATH = os.path.join(PROJECT_ROOT_DIR, \"datasets\")\n",
    "\n",
    "def load_car_data(cars_path=CARS_PATH):\n",
    "    csv_path = os.path.join(cars_path, \"cars.csv\")\n",
    "    return pd.read_csv(csv_path)"
   ]
  },
  {
   "cell_type": "code",
   "execution_count": 756,
   "metadata": {},
   "outputs": [],
   "source": [
    "cars = load_car_data()"
   ]
  },
  {
   "cell_type": "code",
   "execution_count": 757,
   "metadata": {},
   "outputs": [
    {
     "data": {
      "text/html": [
       "<div>\n",
       "<style scoped>\n",
       "    .dataframe tbody tr th:only-of-type {\n",
       "        vertical-align: middle;\n",
       "    }\n",
       "\n",
       "    .dataframe tbody tr th {\n",
       "        vertical-align: top;\n",
       "    }\n",
       "\n",
       "    .dataframe thead th {\n",
       "        text-align: right;\n",
       "    }\n",
       "</style>\n",
       "<table border=\"1\" class=\"dataframe\">\n",
       "  <thead>\n",
       "    <tr style=\"text-align: right;\">\n",
       "      <th></th>\n",
       "      <th>Year</th>\n",
       "      <th>Make</th>\n",
       "      <th>Model</th>\n",
       "      <th>Mileage</th>\n",
       "      <th>Price</th>\n",
       "      <th>Drive</th>\n",
       "      <th>Engine</th>\n",
       "      <th>Trim</th>\n",
       "      <th>Exterior_color</th>\n",
       "      <th>Interior_color</th>\n",
       "      <th>Location</th>\n",
       "      <th>Accidents</th>\n",
       "    </tr>\n",
       "  </thead>\n",
       "  <tbody>\n",
       "    <tr>\n",
       "      <td>0</td>\n",
       "      <td>2019</td>\n",
       "      <td>Acura</td>\n",
       "      <td>TLX</td>\n",
       "      <td>5215</td>\n",
       "      <td>38799.0</td>\n",
       "      <td>SH-AWD</td>\n",
       "      <td>3.5L V-6</td>\n",
       "      <td>3.5L SH-AWD with Advance Package</td>\n",
       "      <td>Black</td>\n",
       "      <td>Unknown</td>\n",
       "      <td>Tustin, CA</td>\n",
       "      <td>0</td>\n",
       "    </tr>\n",
       "    <tr>\n",
       "      <td>1</td>\n",
       "      <td>2018</td>\n",
       "      <td>Acura</td>\n",
       "      <td>TLX</td>\n",
       "      <td>52438</td>\n",
       "      <td>21000.0</td>\n",
       "      <td>FWD</td>\n",
       "      <td>2.4L Inline-4</td>\n",
       "      <td>2.4L FWD with Technology Package</td>\n",
       "      <td>Red</td>\n",
       "      <td>Black</td>\n",
       "      <td>Ellicott City, MD</td>\n",
       "      <td>0</td>\n",
       "    </tr>\n",
       "    <tr>\n",
       "      <td>2</td>\n",
       "      <td>2016</td>\n",
       "      <td>Acura</td>\n",
       "      <td>TLX</td>\n",
       "      <td>29581</td>\n",
       "      <td>17799.0</td>\n",
       "      <td>FWD</td>\n",
       "      <td>2.4L Inline-4</td>\n",
       "      <td>FWD</td>\n",
       "      <td>Blue</td>\n",
       "      <td>Unknown</td>\n",
       "      <td>Tinley Park, IL</td>\n",
       "      <td>0</td>\n",
       "    </tr>\n",
       "    <tr>\n",
       "      <td>3</td>\n",
       "      <td>2017</td>\n",
       "      <td>Acura</td>\n",
       "      <td>TLX</td>\n",
       "      <td>25399</td>\n",
       "      <td>26679.0</td>\n",
       "      <td>SH-AWD</td>\n",
       "      <td>3.5L V-6</td>\n",
       "      <td>V6 SH-AWD with Advance Package</td>\n",
       "      <td>Black</td>\n",
       "      <td>Black</td>\n",
       "      <td>Cockeysville, MD</td>\n",
       "      <td>0</td>\n",
       "    </tr>\n",
       "    <tr>\n",
       "      <td>4</td>\n",
       "      <td>2017</td>\n",
       "      <td>Acura</td>\n",
       "      <td>TLX</td>\n",
       "      <td>31930</td>\n",
       "      <td>19981.0</td>\n",
       "      <td>FWD</td>\n",
       "      <td>3.5L V-6</td>\n",
       "      <td>V6 FWD</td>\n",
       "      <td>White</td>\n",
       "      <td>Black</td>\n",
       "      <td>Chantilly, VA</td>\n",
       "      <td>0</td>\n",
       "    </tr>\n",
       "  </tbody>\n",
       "</table>\n",
       "</div>"
      ],
      "text/plain": [
       "   Year   Make Model  Mileage    Price   Drive         Engine  \\\n",
       "0  2019  Acura   TLX     5215  38799.0  SH-AWD       3.5L V-6   \n",
       "1  2018  Acura   TLX    52438  21000.0     FWD  2.4L Inline-4   \n",
       "2  2016  Acura   TLX    29581  17799.0     FWD  2.4L Inline-4   \n",
       "3  2017  Acura   TLX    25399  26679.0  SH-AWD       3.5L V-6   \n",
       "4  2017  Acura   TLX    31930  19981.0     FWD       3.5L V-6   \n",
       "\n",
       "                               Trim Exterior_color Interior_color  \\\n",
       "0  3.5L SH-AWD with Advance Package          Black        Unknown   \n",
       "1  2.4L FWD with Technology Package            Red          Black   \n",
       "2                               FWD           Blue        Unknown   \n",
       "3    V6 SH-AWD with Advance Package          Black          Black   \n",
       "4                            V6 FWD          White          Black   \n",
       "\n",
       "            Location  Accidents  \n",
       "0         Tustin, CA          0  \n",
       "1  Ellicott City, MD          0  \n",
       "2    Tinley Park, IL          0  \n",
       "3   Cockeysville, MD          0  \n",
       "4      Chantilly, VA          0  "
      ]
     },
     "execution_count": 757,
     "metadata": {},
     "output_type": "execute_result"
    }
   ],
   "source": [
    "cars.head()"
   ]
  },
  {
   "cell_type": "code",
   "execution_count": 758,
   "metadata": {},
   "outputs": [
    {
     "name": "stdout",
     "output_type": "stream",
     "text": [
      "<class 'pandas.core.frame.DataFrame'>\n",
      "RangeIndex: 2403 entries, 0 to 2402\n",
      "Data columns (total 12 columns):\n",
      "Year              2403 non-null int64\n",
      "Make              2403 non-null object\n",
      "Model             2403 non-null object\n",
      "Mileage           2403 non-null int64\n",
      "Price             2338 non-null float64\n",
      "Drive             2402 non-null object\n",
      "Engine            2402 non-null object\n",
      "Trim              2402 non-null object\n",
      "Exterior_color    2103 non-null object\n",
      "Interior_color    2103 non-null object\n",
      "Location          2403 non-null object\n",
      "Accidents         2403 non-null int64\n",
      "dtypes: float64(1), int64(3), object(8)\n",
      "memory usage: 225.4+ KB\n"
     ]
    }
   ],
   "source": [
    "cars.info()"
   ]
  },
  {
   "cell_type": "markdown",
   "metadata": {},
   "source": [
    "Let’s see how complete our dataset is. By looking at the percentage of null values for each column we can get a good idea of how many missing values we are dealing with."
   ]
  },
  {
   "cell_type": "code",
   "execution_count": 759,
   "metadata": {},
   "outputs": [
    {
     "data": {
      "text/plain": [
       "Year              0.000000\n",
       "Make              0.000000\n",
       "Model             0.000000\n",
       "Mileage           0.000000\n",
       "Price             0.027050\n",
       "Drive             0.000416\n",
       "Engine            0.000416\n",
       "Trim              0.000416\n",
       "Exterior_color    0.124844\n",
       "Interior_color    0.124844\n",
       "Location          0.000000\n",
       "Accidents         0.000000\n",
       "dtype: float64"
      ]
     },
     "execution_count": 759,
     "metadata": {},
     "output_type": "execute_result"
    }
   ],
   "source": [
    "cars.isnull().sum() / len(cars)"
   ]
  },
  {
   "cell_type": "markdown",
   "metadata": {},
   "source": [
    "We see there are missing values in 6 of our columns. Specifically in our target variable Price and attributes Drive, Engine, Trim, Exterior color, and Interior Color. Since Price is our target variable we will have to drop those instances. Since Drive, Engine, and Trim have a very low missing value percentage it should be okay to drop the instances pertaining to those instances as well. Since Exterior and Interior color are more than 10% null and probably won’t have much predictive power on price we will go ahead and drop those columns as well from the dataset."
   ]
  },
  {
   "cell_type": "code",
   "execution_count": 760,
   "metadata": {},
   "outputs": [
    {
     "data": {
      "text/html": [
       "<div>\n",
       "<style scoped>\n",
       "    .dataframe tbody tr th:only-of-type {\n",
       "        vertical-align: middle;\n",
       "    }\n",
       "\n",
       "    .dataframe tbody tr th {\n",
       "        vertical-align: top;\n",
       "    }\n",
       "\n",
       "    .dataframe thead th {\n",
       "        text-align: right;\n",
       "    }\n",
       "</style>\n",
       "<table border=\"1\" class=\"dataframe\">\n",
       "  <thead>\n",
       "    <tr style=\"text-align: right;\">\n",
       "      <th></th>\n",
       "      <th>Year</th>\n",
       "      <th>Mileage</th>\n",
       "      <th>Price</th>\n",
       "      <th>Accidents</th>\n",
       "    </tr>\n",
       "  </thead>\n",
       "  <tbody>\n",
       "    <tr>\n",
       "      <td>count</td>\n",
       "      <td>2403.000000</td>\n",
       "      <td>2403.000000</td>\n",
       "      <td>2338.000000</td>\n",
       "      <td>2403.000000</td>\n",
       "    </tr>\n",
       "    <tr>\n",
       "      <td>mean</td>\n",
       "      <td>2017.676238</td>\n",
       "      <td>27201.252601</td>\n",
       "      <td>24856.005133</td>\n",
       "      <td>0.136912</td>\n",
       "    </tr>\n",
       "    <tr>\n",
       "      <td>std</td>\n",
       "      <td>1.529084</td>\n",
       "      <td>23253.457691</td>\n",
       "      <td>8153.910645</td>\n",
       "      <td>0.386036</td>\n",
       "    </tr>\n",
       "    <tr>\n",
       "      <td>min</td>\n",
       "      <td>2015.000000</td>\n",
       "      <td>0.000000</td>\n",
       "      <td>10931.000000</td>\n",
       "      <td>0.000000</td>\n",
       "    </tr>\n",
       "    <tr>\n",
       "      <td>25%</td>\n",
       "      <td>2017.000000</td>\n",
       "      <td>6986.500000</td>\n",
       "      <td>18588.000000</td>\n",
       "      <td>0.000000</td>\n",
       "    </tr>\n",
       "    <tr>\n",
       "      <td>50%</td>\n",
       "      <td>2017.000000</td>\n",
       "      <td>25096.000000</td>\n",
       "      <td>22000.000000</td>\n",
       "      <td>0.000000</td>\n",
       "    </tr>\n",
       "    <tr>\n",
       "      <td>75%</td>\n",
       "      <td>2019.000000</td>\n",
       "      <td>38767.000000</td>\n",
       "      <td>29995.000000</td>\n",
       "      <td>0.000000</td>\n",
       "    </tr>\n",
       "    <tr>\n",
       "      <td>max</td>\n",
       "      <td>2020.000000</td>\n",
       "      <td>150850.000000</td>\n",
       "      <td>55419.000000</td>\n",
       "      <td>3.000000</td>\n",
       "    </tr>\n",
       "  </tbody>\n",
       "</table>\n",
       "</div>"
      ],
      "text/plain": [
       "              Year        Mileage         Price    Accidents\n",
       "count  2403.000000    2403.000000   2338.000000  2403.000000\n",
       "mean   2017.676238   27201.252601  24856.005133     0.136912\n",
       "std       1.529084   23253.457691   8153.910645     0.386036\n",
       "min    2015.000000       0.000000  10931.000000     0.000000\n",
       "25%    2017.000000    6986.500000  18588.000000     0.000000\n",
       "50%    2017.000000   25096.000000  22000.000000     0.000000\n",
       "75%    2019.000000   38767.000000  29995.000000     0.000000\n",
       "max    2020.000000  150850.000000  55419.000000     3.000000"
      ]
     },
     "execution_count": 760,
     "metadata": {},
     "output_type": "execute_result"
    }
   ],
   "source": [
    "cars.describe()"
   ]
  },
  {
   "cell_type": "markdown",
   "metadata": {},
   "source": [
    "Our cars range from 2015 to 2020 and we will have to decide whether to keep them as integers or change them to categorical or ordinal.  There seems to be a few outliers with mileage and price that are more than 3 standard deviations away from the mean.  Standardizing our data will be very important."
   ]
  },
  {
   "cell_type": "code",
   "execution_count": 761,
   "metadata": {},
   "outputs": [
    {
     "data": {
      "image/png": "[encoded data removed]",
      "text/plain": [
       "<Figure size 1440x1080 with 4 Axes>"
      ]
     },
     "metadata": {
      "needs_background": "light"
     },
     "output_type": "display_data"
    }
   ],
   "source": [
    "cars.hist(bins=50, figsize=(20,15))\n",
    "plt.show()"
   ]
  },
  {
   "cell_type": "markdown",
   "metadata": {},
   "source": [
    "## Summary\n",
    "\n",
    "After taking a quick glance of the data there are some important things to take note of:\n",
    "* Our target variable has 2% null values and will have to be removed.\n",
    "* There are outliers and our numerical features are not normally distributed (we need to standardize numerical attributes).\n",
    "* Exterior and Interior color columns will need to be dropped due to being 10% null and holding very little predictive power."
   ]
  },
  {
   "cell_type": "code",
   "execution_count": 762,
   "metadata": {},
   "outputs": [],
   "source": [
    "cars = cars.drop(columns=[\"Exterior_color\", \"Interior_color\"])\n",
    "cars = cars.dropna(axis=0)\n",
    "cars.reset_index(inplace=True)"
   ]
  },
  {
   "cell_type": "markdown",
   "metadata": {},
   "source": [
    "## Create a test set\n",
    "\n",
    "We use a stratified split here to ensure our test set is as representative of the various ratios in the whole dataset. Since we believe certain features like the year of the car will be very important predictors of price we ensure that they are evenly distributed between the training and test set. By using a stratified split we avoid a sampling bias where the test is not representative of the whole dataset.\n",
    "\n",
    "The following code uses the pd.cut() function to create a year category attribute with 6 categories (labeled from 0 to 5 and corresponding to each year in the dataset):"
   ]
  },
  {
   "cell_type": "code",
   "execution_count": 763,
   "metadata": {},
   "outputs": [],
   "source": [
    "cars[\"Year_cat\"] = pd.cut(cars[\"Year\"],\n",
    "                           bins=[2014.5, 2015.5, 2016.5, 2017.5, 2018.5, 2019.5, 2020.5],\n",
    "                           labels=[0, 1, 2, 3, 4, 5])"
   ]
  },
  {
   "cell_type": "code",
   "execution_count": 764,
   "metadata": {},
   "outputs": [
    {
     "data": {
      "text/plain": [
       "2    874\n",
       "5    441\n",
       "4    338\n",
       "3    255\n",
       "1    228\n",
       "0    201\n",
       "Name: Year_cat, dtype: int64"
      ]
     },
     "execution_count": 764,
     "metadata": {},
     "output_type": "execute_result"
    }
   ],
   "source": [
    "cars[\"Year_cat\"].value_counts()"
   ]
  },
  {
   "cell_type": "code",
   "execution_count": 765,
   "metadata": {},
   "outputs": [
    {
     "data": {
      "image/png": "[encoded data removed]",
      "text/plain": [
       "<Figure size 432x288 with 1 Axes>"
      ]
     },
     "metadata": {
      "needs_background": "light"
     },
     "output_type": "display_data"
    }
   ],
   "source": [
    "cars[\"Year_cat\"].hist();"
   ]
  },
  {
   "cell_type": "markdown",
   "metadata": {},
   "source": [
    "Now we are ready to do stratified sampling based on the year attribute. For this we can use Scikit-Learn’s StratifiedShuffleSplit() class:"
   ]
  },
  {
   "cell_type": "code",
   "execution_count": 766,
   "metadata": {},
   "outputs": [],
   "source": [
    "from sklearn.model_selection import StratifiedShuffleSplit\n",
    "\n",
    "split = StratifiedShuffleSplit(n_splits=1, test_size=0.2, random_state=42)\n",
    "for train_index, test_index in split.split(cars, cars[\"Year_cat\"]):\n",
    "    train_set = cars.loc[train_index]\n",
    "    test_set = cars.loc[test_index]"
   ]
  },
  {
   "cell_type": "code",
   "execution_count": 767,
   "metadata": {},
   "outputs": [
    {
     "data": {
      "text/plain": [
       "2    0.373932\n",
       "5    0.188034\n",
       "4    0.145299\n",
       "3    0.108974\n",
       "1    0.098291\n",
       "0    0.085470\n",
       "Name: Year_cat, dtype: float64"
      ]
     },
     "execution_count": 767,
     "metadata": {},
     "output_type": "execute_result"
    }
   ],
   "source": [
    "test_set[\"Year_cat\"].value_counts() / len(test_set)"
   ]
  },
  {
   "cell_type": "code",
   "execution_count": 768,
   "metadata": {},
   "outputs": [
    {
     "data": {
      "text/plain": [
       "2    0.373984\n",
       "5    0.188703\n",
       "4    0.144630\n",
       "3    0.109114\n",
       "1    0.097561\n",
       "0    0.086008\n",
       "Name: Year_cat, dtype: float64"
      ]
     },
     "execution_count": 768,
     "metadata": {},
     "output_type": "execute_result"
    }
   ],
   "source": [
    "cars[\"Year_cat\"].value_counts() / len(cars)"
   ]
  },
  {
   "cell_type": "markdown",
   "metadata": {},
   "source": [
    "Now we remove the Year_cat attribute so the data is back to its original state:"
   ]
  },
  {
   "cell_type": "code",
   "execution_count": 769,
   "metadata": {},
   "outputs": [],
   "source": [
    "for set_ in (test_set, train_set):\n",
    "    set_.drop(\"Year_cat\", axis=1, inplace=True)"
   ]
  },
  {
   "cell_type": "markdown",
   "metadata": {},
   "source": [
    "# Explore the data\n",
    "\n",
    "Let us now discover and visualize the data to get a feel of what it looks like and gain insights. We create a copy of the training set so we can play with it without harming the original training set.\n",
    "\n",
    "Below is a table with the columns, data type, and a short description detailing what information they hold:\n",
    "\n",
    "| Column Name | Type | Description | \n",
    "| --- | --- | --- |\n",
    "| Year | Numerical | Year made |\n",
    "| Price | Numerical | Price of car (target variable) |\n",
    "| Mileage | Numerical | Amount of miles the car has been driven |\n",
    "| Drive | Categorical | Type of drive (either \"FWD\" or \"SH-AWD\") |\n",
    "| Engine | Categorical | Type of engine (either \"2.4L Inline-4\" or \"3.5L V-6\" |\n",
    "| Trim | Categorical | Contains info on performance package |\n",
    "| Location | Categorical | Where the car is listed for sale |\n",
    "| Accidents | Numerical | Amount of accidents on car's title |"
   ]
  },
  {
   "cell_type": "code",
   "execution_count": 568,
   "metadata": {},
   "outputs": [
    {
     "name": "stdout",
     "output_type": "stream",
     "text": [
      "<class 'pandas.core.frame.DataFrame'>\n",
      "Int64Index: 1869 entries, 1527 to 1159\n",
      "Data columns (total 11 columns):\n",
      "index        1869 non-null int64\n",
      "Year         1869 non-null int64\n",
      "Make         1869 non-null object\n",
      "Model        1869 non-null object\n",
      "Mileage      1869 non-null int64\n",
      "Price        1869 non-null float64\n",
      "Drive        1869 non-null object\n",
      "Engine       1869 non-null object\n",
      "Trim         1869 non-null object\n",
      "Location     1869 non-null object\n",
      "Accidents    1869 non-null int64\n",
      "dtypes: float64(1), int64(4), object(6)\n",
      "memory usage: 175.2+ KB\n"
     ]
    }
   ],
   "source": [
    "train_set.info()"
   ]
  },
  {
   "cell_type": "code",
   "execution_count": 569,
   "metadata": {},
   "outputs": [],
   "source": [
    "cars = train_set.copy()"
   ]
  },
  {
   "cell_type": "markdown",
   "metadata": {},
   "source": [
    "## Numerical Attributes\n",
    "\n",
    "We will start by looking at the numerical data types and computing the standard correlation coefficient between every pair of attributes using the corr() method:"
   ]
  },
  {
   "cell_type": "code",
   "execution_count": 570,
   "metadata": {},
   "outputs": [],
   "source": [
    "corr_matrix = cars.corr()"
   ]
  },
  {
   "cell_type": "markdown",
   "metadata": {},
   "source": [
    "Now let’s look at how much each attribute correlates with the price:"
   ]
  },
  {
   "cell_type": "code",
   "execution_count": 571,
   "metadata": {},
   "outputs": [
    {
     "data": {
      "text/plain": [
       "Price        1.000000\n",
       "Year         0.848288\n",
       "index        0.014088\n",
       "Accidents   -0.234780\n",
       "Mileage     -0.757645\n",
       "Name: Price, dtype: float64"
      ]
     },
     "execution_count": 571,
     "metadata": {},
     "output_type": "execute_result"
    }
   ],
   "source": [
    "corr_matrix[\"Price\"].sort_values(ascending=False)"
   ]
  },
  {
   "cell_type": "markdown",
   "metadata": {},
   "source": [
    "Another way to check for correlation between attributes is to use pandas scatter_matrix() function, which plots every numerical attribute against every other numerical attribute."
   ]
  },
  {
   "cell_type": "code",
   "execution_count": 572,
   "metadata": {},
   "outputs": [
    {
     "name": "stdout",
     "output_type": "stream",
     "text": [
      "Saving figure scatter_matrix_plot\n"
     ]
    },
    {
     "data": {
      "image/png": "[encoded data removed]",
      "text/plain": [
       "<Figure size 864x576 with 16 Axes>"
      ]
     },
     "metadata": {
      "needs_background": "light"
     },
     "output_type": "display_data"
    }
   ],
   "source": [
    "from pandas.plotting import scatter_matrix\n",
    "\n",
    "attributes = [\"Price\", \"Year\", \"Mileage\", \"Accidents\"]\n",
    "scatter_matrix(cars[attributes], figsize=(12,8))\n",
    "save_fig(\"scatter_matrix_plot\")"
   ]
  },
  {
   "cell_type": "markdown",
   "metadata": {},
   "source": [
    "The figure above shows us a couple things. Indeed the attributes year and mileage are going to be very strong predictors of price and show some interaction that we might be able to capture by creating a new feature, miles per year. Also, there is not many instances with 3 accidents. It might be beneficial to group cars with 2 or 3 accidents into one value of 2 or more."
   ]
  },
  {
   "cell_type": "code",
   "execution_count": 573,
   "metadata": {},
   "outputs": [
    {
     "name": "stdout",
     "output_type": "stream",
     "text": [
      "Saving figure mileage_vs_car_price_scatterplot\n"
     ]
    },
    {
     "data": {
      "image/png": "[encoded data removed]",
      "text/plain": [
       "<Figure size 432x288 with 1 Axes>"
      ]
     },
     "metadata": {
      "needs_background": "light"
     },
     "output_type": "display_data"
    }
   ],
   "source": [
    "cars.plot(kind=\"scatter\", x=\"Mileage\", y=\"Price\", alpha=0.1)\n",
    "plt.axis([0, 150850, 0, 55420])\n",
    "save_fig(\"mileage_vs_car_price_scatterplot\")"
   ]
  },
  {
   "cell_type": "markdown",
   "metadata": {},
   "source": [
    "To create the miles per year attribute we need to know how many years old the car is instead of the year. We achieve this through taking the absolute value of the current year subtracted from the year of the car. However, we won’t be able to divide by 0 for 2020 Acura TLXs so we will replace 0s with 1s (in this case the attribute miles_per_year will be the same as mileage)."
   ]
  },
  {
   "cell_type": "code",
   "execution_count": 574,
   "metadata": {},
   "outputs": [],
   "source": [
    "cars[\"Years_old\"] = abs(cars[\"Year\"] - 2020)"
   ]
  },
  {
   "cell_type": "code",
   "execution_count": 575,
   "metadata": {},
   "outputs": [],
   "source": [
    "cars[\"Miles_per_year\"] = cars[\"Mileage\"] / cars[\"Years_old\"].replace(0, 1) "
   ]
  },
  {
   "cell_type": "markdown",
   "metadata": {},
   "source": [
    "Now let’s look at the correlation of our target price with the new attribute:"
   ]
  },
  {
   "cell_type": "code",
   "execution_count": 576,
   "metadata": {},
   "outputs": [
    {
     "data": {
      "text/plain": [
       "Price             1.000000\n",
       "Year              0.848288\n",
       "index             0.014088\n",
       "Accidents        -0.234780\n",
       "Miles_per_year   -0.591101\n",
       "Mileage          -0.757645\n",
       "Years_old        -0.848288\n",
       "Name: Price, dtype: float64"
      ]
     },
     "execution_count": 576,
     "metadata": {},
     "output_type": "execute_result"
    }
   ],
   "source": [
    "corr_matrix = cars.corr()\n",
    "corr_matrix[\"Price\"].sort_values(ascending=False)"
   ]
  },
  {
   "cell_type": "markdown",
   "metadata": {},
   "source": [
    "Great! we see it is strongly correlated with the price as well!"
   ]
  },
  {
   "cell_type": "code",
   "execution_count": 577,
   "metadata": {},
   "outputs": [
    {
     "data": {
      "text/html": [
       "<div>\n",
       "<style scoped>\n",
       "    .dataframe tbody tr th:only-of-type {\n",
       "        vertical-align: middle;\n",
       "    }\n",
       "\n",
       "    .dataframe tbody tr th {\n",
       "        vertical-align: top;\n",
       "    }\n",
       "\n",
       "    .dataframe thead th {\n",
       "        text-align: right;\n",
       "    }\n",
       "</style>\n",
       "<table border=\"1\" class=\"dataframe\">\n",
       "  <thead>\n",
       "    <tr style=\"text-align: right;\">\n",
       "      <th></th>\n",
       "      <th>Price</th>\n",
       "    </tr>\n",
       "    <tr>\n",
       "      <th>Accidents</th>\n",
       "      <th></th>\n",
       "    </tr>\n",
       "  </thead>\n",
       "  <tbody>\n",
       "    <tr>\n",
       "      <td>0</td>\n",
       "      <td>22998.0</td>\n",
       "    </tr>\n",
       "    <tr>\n",
       "      <td>1</td>\n",
       "      <td>18950.0</td>\n",
       "    </tr>\n",
       "    <tr>\n",
       "      <td>2</td>\n",
       "      <td>17498.0</td>\n",
       "    </tr>\n",
       "    <tr>\n",
       "      <td>3</td>\n",
       "      <td>18099.0</td>\n",
       "    </tr>\n",
       "  </tbody>\n",
       "</table>\n",
       "</div>"
      ],
      "text/plain": [
       "             Price\n",
       "Accidents         \n",
       "0          22998.0\n",
       "1          18950.0\n",
       "2          17498.0\n",
       "3          18099.0"
      ]
     },
     "execution_count": 577,
     "metadata": {},
     "output_type": "execute_result"
    }
   ],
   "source": [
    "cars[[\"Price\", \"Accidents\"]].groupby(\"Accidents\").median()"
   ]
  },
  {
   "cell_type": "markdown",
   "metadata": {},
   "source": [
    "Since we do not have many instances with 3 accidents it might be better to group together cars with 2 or more accidents.  This way we'll preserve a stronger correlation."
   ]
  },
  {
   "cell_type": "code",
   "execution_count": 578,
   "metadata": {},
   "outputs": [],
   "source": [
    "cars[\"Accidents_cat\"] = pd.cut(cars[\"Accidents\"],\n",
    "                                bins=[-0.1, 0.95, 1.95, np.inf],\n",
    "                                labels=[0, 1, 2])"
   ]
  },
  {
   "cell_type": "code",
   "execution_count": 579,
   "metadata": {},
   "outputs": [
    {
     "data": {
      "text/html": [
       "<div>\n",
       "<style scoped>\n",
       "    .dataframe tbody tr th:only-of-type {\n",
       "        vertical-align: middle;\n",
       "    }\n",
       "\n",
       "    .dataframe tbody tr th {\n",
       "        vertical-align: top;\n",
       "    }\n",
       "\n",
       "    .dataframe thead th {\n",
       "        text-align: right;\n",
       "    }\n",
       "</style>\n",
       "<table border=\"1\" class=\"dataframe\">\n",
       "  <thead>\n",
       "    <tr style=\"text-align: right;\">\n",
       "      <th></th>\n",
       "      <th>Price</th>\n",
       "    </tr>\n",
       "    <tr>\n",
       "      <th>Accidents_cat</th>\n",
       "      <th></th>\n",
       "    </tr>\n",
       "  </thead>\n",
       "  <tbody>\n",
       "    <tr>\n",
       "      <td>0</td>\n",
       "      <td>22998.0</td>\n",
       "    </tr>\n",
       "    <tr>\n",
       "      <td>1</td>\n",
       "      <td>18950.0</td>\n",
       "    </tr>\n",
       "    <tr>\n",
       "      <td>2</td>\n",
       "      <td>17798.0</td>\n",
       "    </tr>\n",
       "  </tbody>\n",
       "</table>\n",
       "</div>"
      ],
      "text/plain": [
       "                 Price\n",
       "Accidents_cat         \n",
       "0              22998.0\n",
       "1              18950.0\n",
       "2              17798.0"
      ]
     },
     "execution_count": 579,
     "metadata": {},
     "output_type": "execute_result"
    }
   ],
   "source": [
    "cars[[\"Price\", \"Accidents_cat\"]].groupby(\"Accidents_cat\").median()"
   ]
  },
  {
   "cell_type": "markdown",
   "metadata": {},
   "source": [
    "## Categorical Attributes\n",
    "\n",
    "Now we are going to look at the categorical features: Drive, Engine, and Trim. Location data will be hard to use because the cars are from all across the United States. We are using median on every groupby because our target variable price had a few outliers that can impact the mean.  "
   ]
  },
  {
   "cell_type": "code",
   "execution_count": 580,
   "metadata": {},
   "outputs": [
    {
     "data": {
      "text/html": [
       "<div>\n",
       "<style scoped>\n",
       "    .dataframe tbody tr th:only-of-type {\n",
       "        vertical-align: middle;\n",
       "    }\n",
       "\n",
       "    .dataframe tbody tr th {\n",
       "        vertical-align: top;\n",
       "    }\n",
       "\n",
       "    .dataframe thead th {\n",
       "        text-align: right;\n",
       "    }\n",
       "</style>\n",
       "<table border=\"1\" class=\"dataframe\">\n",
       "  <thead>\n",
       "    <tr style=\"text-align: right;\">\n",
       "      <th></th>\n",
       "      <th>Price</th>\n",
       "    </tr>\n",
       "    <tr>\n",
       "      <th>Drive</th>\n",
       "      <th></th>\n",
       "    </tr>\n",
       "  </thead>\n",
       "  <tbody>\n",
       "    <tr>\n",
       "      <td>FWD</td>\n",
       "      <td>21165.0</td>\n",
       "    </tr>\n",
       "    <tr>\n",
       "      <td>SH-AWD</td>\n",
       "      <td>27900.0</td>\n",
       "    </tr>\n",
       "  </tbody>\n",
       "</table>\n",
       "</div>"
      ],
      "text/plain": [
       "          Price\n",
       "Drive          \n",
       "FWD     21165.0\n",
       "SH-AWD  27900.0"
      ]
     },
     "execution_count": 580,
     "metadata": {},
     "output_type": "execute_result"
    }
   ],
   "source": [
    "cars[[\"Price\", \"Drive\"]].groupby(\"Drive\").median()"
   ]
  },
  {
   "cell_type": "code",
   "execution_count": 581,
   "metadata": {},
   "outputs": [
    {
     "data": {
      "text/html": [
       "<div>\n",
       "<style scoped>\n",
       "    .dataframe tbody tr th:only-of-type {\n",
       "        vertical-align: middle;\n",
       "    }\n",
       "\n",
       "    .dataframe tbody tr th {\n",
       "        vertical-align: top;\n",
       "    }\n",
       "\n",
       "    .dataframe thead th {\n",
       "        text-align: right;\n",
       "    }\n",
       "</style>\n",
       "<table border=\"1\" class=\"dataframe\">\n",
       "  <thead>\n",
       "    <tr style=\"text-align: right;\">\n",
       "      <th></th>\n",
       "      <th>Price</th>\n",
       "    </tr>\n",
       "    <tr>\n",
       "      <th>Engine</th>\n",
       "      <th></th>\n",
       "    </tr>\n",
       "  </thead>\n",
       "  <tbody>\n",
       "    <tr>\n",
       "      <td>2.4L Inline-4</td>\n",
       "      <td>19950.0</td>\n",
       "    </tr>\n",
       "    <tr>\n",
       "      <td>3.5L V-6</td>\n",
       "      <td>24291.5</td>\n",
       "    </tr>\n",
       "  </tbody>\n",
       "</table>\n",
       "</div>"
      ],
      "text/plain": [
       "                 Price\n",
       "Engine                \n",
       "2.4L Inline-4  19950.0\n",
       "3.5L V-6       24291.5"
      ]
     },
     "execution_count": 581,
     "metadata": {},
     "output_type": "execute_result"
    }
   ],
   "source": [
    "cars[[\"Price\", \"Engine\"]].groupby(\"Engine\").median()"
   ]
  },
  {
   "cell_type": "markdown",
   "metadata": {},
   "source": [
    "One last interesting column I want to look at is Trim. This column contains a lot of information including the type of performance package on the car. It might be beneficial to extract the package and use it as an attribute instead. Let’s observe the correlation between different trims and median price."
   ]
  },
  {
   "cell_type": "code",
   "execution_count": 582,
   "metadata": {},
   "outputs": [
    {
     "data": {
      "text/html": [
       "<div>\n",
       "<style scoped>\n",
       "    .dataframe tbody tr th:only-of-type {\n",
       "        vertical-align: middle;\n",
       "    }\n",
       "\n",
       "    .dataframe tbody tr th {\n",
       "        vertical-align: top;\n",
       "    }\n",
       "\n",
       "    .dataframe thead th {\n",
       "        text-align: right;\n",
       "    }\n",
       "</style>\n",
       "<table border=\"1\" class=\"dataframe\">\n",
       "  <thead>\n",
       "    <tr style=\"text-align: right;\">\n",
       "      <th></th>\n",
       "      <th>Price</th>\n",
       "    </tr>\n",
       "    <tr>\n",
       "      <th>Trim</th>\n",
       "      <th></th>\n",
       "    </tr>\n",
       "  </thead>\n",
       "  <tbody>\n",
       "    <tr>\n",
       "      <td>3.5L SH-AWD PMC Edition</td>\n",
       "      <td>50945.0</td>\n",
       "    </tr>\n",
       "    <tr>\n",
       "      <td>3.5L SH-AWD with A-Spec Package Red Leather</td>\n",
       "      <td>45795.0</td>\n",
       "    </tr>\n",
       "    <tr>\n",
       "      <td>3.5L SH-AWD with Advance Package</td>\n",
       "      <td>35975.0</td>\n",
       "    </tr>\n",
       "    <tr>\n",
       "      <td>3.5L SH-AWD with A-Spec Package</td>\n",
       "      <td>35674.0</td>\n",
       "    </tr>\n",
       "    <tr>\n",
       "      <td>2.4L FWD with A-Spec Package Red Leather</td>\n",
       "      <td>34588.0</td>\n",
       "    </tr>\n",
       "    <tr>\n",
       "      <td>3.5L SH-AWD with Technology Package</td>\n",
       "      <td>33116.5</td>\n",
       "    </tr>\n",
       "    <tr>\n",
       "      <td>3.5L FWD with A-Spec Package Red Leather</td>\n",
       "      <td>32988.0</td>\n",
       "    </tr>\n",
       "    <tr>\n",
       "      <td>3.5L FWD with Advance Package</td>\n",
       "      <td>32649.5</td>\n",
       "    </tr>\n",
       "    <tr>\n",
       "      <td>2.4L FWD with A-Spec Package</td>\n",
       "      <td>32394.5</td>\n",
       "    </tr>\n",
       "    <tr>\n",
       "      <td>3.5L FWD with A-Spec Package</td>\n",
       "      <td>31893.0</td>\n",
       "    </tr>\n",
       "    <tr>\n",
       "      <td>3.5L FWD with Technology Package</td>\n",
       "      <td>31534.0</td>\n",
       "    </tr>\n",
       "    <tr>\n",
       "      <td>2.4L FWD with Technology Package</td>\n",
       "      <td>31399.0</td>\n",
       "    </tr>\n",
       "    <tr>\n",
       "      <td>3.5L SH-AWD</td>\n",
       "      <td>31031.5</td>\n",
       "    </tr>\n",
       "    <tr>\n",
       "      <td>3.5L FWD</td>\n",
       "      <td>29683.0</td>\n",
       "    </tr>\n",
       "    <tr>\n",
       "      <td>2.4L FWD</td>\n",
       "      <td>26650.0</td>\n",
       "    </tr>\n",
       "    <tr>\n",
       "      <td>V6 SH-AWD with Advance Package</td>\n",
       "      <td>22994.0</td>\n",
       "    </tr>\n",
       "    <tr>\n",
       "      <td>V6 FWD with Advance Package</td>\n",
       "      <td>22700.0</td>\n",
       "    </tr>\n",
       "    <tr>\n",
       "      <td>V6 SH-AWD with Technology Package</td>\n",
       "      <td>21790.0</td>\n",
       "    </tr>\n",
       "    <tr>\n",
       "      <td>V6 FWD with Technology Package</td>\n",
       "      <td>20945.0</td>\n",
       "    </tr>\n",
       "    <tr>\n",
       "      <td>I4 FWD with Technology Package</td>\n",
       "      <td>19810.5</td>\n",
       "    </tr>\n",
       "    <tr>\n",
       "      <td>V6 FWD</td>\n",
       "      <td>18825.0</td>\n",
       "    </tr>\n",
       "    <tr>\n",
       "      <td>I4 FWD</td>\n",
       "      <td>17950.0</td>\n",
       "    </tr>\n",
       "    <tr>\n",
       "      <td>FWD with Technology Package</td>\n",
       "      <td>16938.0</td>\n",
       "    </tr>\n",
       "    <tr>\n",
       "      <td>FWD</td>\n",
       "      <td>15988.0</td>\n",
       "    </tr>\n",
       "  </tbody>\n",
       "</table>\n",
       "</div>"
      ],
      "text/plain": [
       "                                               Price\n",
       "Trim                                                \n",
       "3.5L SH-AWD PMC Edition                      50945.0\n",
       "3.5L SH-AWD with A-Spec Package Red Leather  45795.0\n",
       "3.5L SH-AWD with Advance Package             35975.0\n",
       "3.5L SH-AWD with A-Spec Package              35674.0\n",
       "2.4L FWD with A-Spec Package Red Leather     34588.0\n",
       "3.5L SH-AWD with Technology Package          33116.5\n",
       "3.5L FWD with A-Spec Package Red Leather     32988.0\n",
       "3.5L FWD with Advance Package                32649.5\n",
       "2.4L FWD with A-Spec Package                 32394.5\n",
       "3.5L FWD with A-Spec Package                 31893.0\n",
       "3.5L FWD with Technology Package             31534.0\n",
       "2.4L FWD with Technology Package             31399.0\n",
       "3.5L SH-AWD                                  31031.5\n",
       "3.5L FWD                                     29683.0\n",
       "2.4L FWD                                     26650.0\n",
       "V6 SH-AWD with Advance Package               22994.0\n",
       "V6 FWD with Advance Package                  22700.0\n",
       "V6 SH-AWD with Technology Package            21790.0\n",
       "V6 FWD with Technology Package               20945.0\n",
       "I4 FWD with Technology Package               19810.5\n",
       "V6 FWD                                       18825.0\n",
       "I4 FWD                                       17950.0\n",
       "FWD with Technology Package                  16938.0\n",
       "FWD                                          15988.0"
      ]
     },
     "execution_count": 582,
     "metadata": {},
     "output_type": "execute_result"
    }
   ],
   "source": [
    "cars[[\"Price\", \"Trim\"]].groupby(\"Trim\").median().sort_values(\"Price\", ascending=False)"
   ]
  },
  {
   "cell_type": "markdown",
   "metadata": {},
   "source": [
    "Now let’s extract the package and see if there is any obvious correlation between packages."
   ]
  },
  {
   "cell_type": "code",
   "execution_count": 583,
   "metadata": {},
   "outputs": [],
   "source": [
    "def extract_package(trims):\n",
    "    \n",
    "    packages = [\"PMC Edition\", \"A-Spec\", \"Advance\", \"Technology\"]\n",
    "\n",
    "    pat = '|'.join(r\"\\b{}\\b\".format(x) for x in packages)\n",
    "    packages = pd.Series(trims).str.extract(\"(\" + pat + \")\", expand=False)\n",
    "    packages.fillna(\"Standard\", inplace=True)\n",
    "    \n",
    "    return packages"
   ]
  },
  {
   "cell_type": "code",
   "execution_count": 584,
   "metadata": {},
   "outputs": [],
   "source": [
    "cars[\"Package\"] = extract_package(cars[\"Trim\"].values)"
   ]
  },
  {
   "cell_type": "code",
   "execution_count": 585,
   "metadata": {},
   "outputs": [
    {
     "data": {
      "text/html": [
       "<div>\n",
       "<style scoped>\n",
       "    .dataframe tbody tr th:only-of-type {\n",
       "        vertical-align: middle;\n",
       "    }\n",
       "\n",
       "    .dataframe tbody tr th {\n",
       "        vertical-align: top;\n",
       "    }\n",
       "\n",
       "    .dataframe thead th {\n",
       "        text-align: right;\n",
       "    }\n",
       "</style>\n",
       "<table border=\"1\" class=\"dataframe\">\n",
       "  <thead>\n",
       "    <tr style=\"text-align: right;\">\n",
       "      <th></th>\n",
       "      <th>Price</th>\n",
       "    </tr>\n",
       "    <tr>\n",
       "      <th>Package</th>\n",
       "      <th></th>\n",
       "    </tr>\n",
       "  </thead>\n",
       "  <tbody>\n",
       "    <tr>\n",
       "      <td>PMC Edition</td>\n",
       "      <td>35918.0</td>\n",
       "    </tr>\n",
       "    <tr>\n",
       "      <td>Advance</td>\n",
       "      <td>22996.5</td>\n",
       "    </tr>\n",
       "    <tr>\n",
       "      <td>Technology</td>\n",
       "      <td>22560.0</td>\n",
       "    </tr>\n",
       "    <tr>\n",
       "      <td>A-Spec</td>\n",
       "      <td>21931.5</td>\n",
       "    </tr>\n",
       "    <tr>\n",
       "      <td>Standard</td>\n",
       "      <td>21701.0</td>\n",
       "    </tr>\n",
       "  </tbody>\n",
       "</table>\n",
       "</div>"
      ],
      "text/plain": [
       "               Price\n",
       "Package             \n",
       "PMC Edition  35918.0\n",
       "Advance      22996.5\n",
       "Technology   22560.0\n",
       "A-Spec       21931.5\n",
       "Standard     21701.0"
      ]
     },
     "execution_count": 585,
     "metadata": {},
     "output_type": "execute_result"
    }
   ],
   "source": [
    "cars[[\"Price\", \"Package\"]].groupby(\"Package\").median().sort_values(\"Price\", ascending=False)"
   ]
  },
  {
   "cell_type": "markdown",
   "metadata": {},
   "source": [
    "Extracting the package does not seem very helpful. The correlation is weak between different packages and does not follow any trends we expect."
   ]
  },
  {
   "cell_type": "code",
   "execution_count": 586,
   "metadata": {},
   "outputs": [
    {
     "data": {
      "text/html": [
       "<div>\n",
       "<style scoped>\n",
       "    .dataframe tbody tr th:only-of-type {\n",
       "        vertical-align: middle;\n",
       "    }\n",
       "\n",
       "    .dataframe tbody tr th {\n",
       "        vertical-align: top;\n",
       "    }\n",
       "\n",
       "    .dataframe thead th {\n",
       "        text-align: right;\n",
       "    }\n",
       "</style>\n",
       "<table border=\"1\" class=\"dataframe\">\n",
       "  <thead>\n",
       "    <tr style=\"text-align: right;\">\n",
       "      <th></th>\n",
       "      <th>index</th>\n",
       "      <th>Year</th>\n",
       "      <th>Mileage</th>\n",
       "      <th>Price</th>\n",
       "      <th>Accidents</th>\n",
       "      <th>Years_old</th>\n",
       "      <th>Miles_per_year</th>\n",
       "    </tr>\n",
       "  </thead>\n",
       "  <tbody>\n",
       "    <tr>\n",
       "      <td>count</td>\n",
       "      <td>1869.000000</td>\n",
       "      <td>1869.000000</td>\n",
       "      <td>1869.000000</td>\n",
       "      <td>1869.000000</td>\n",
       "      <td>1869.000000</td>\n",
       "      <td>1869.000000</td>\n",
       "      <td>1869.000000</td>\n",
       "    </tr>\n",
       "    <tr>\n",
       "      <td>mean</td>\n",
       "      <td>1184.403959</td>\n",
       "      <td>2017.695024</td>\n",
       "      <td>26527.240770</td>\n",
       "      <td>24927.822900</td>\n",
       "      <td>0.131621</td>\n",
       "      <td>2.304976</td>\n",
       "      <td>9361.152550</td>\n",
       "    </tr>\n",
       "    <tr>\n",
       "      <td>std</td>\n",
       "      <td>692.248579</td>\n",
       "      <td>1.531987</td>\n",
       "      <td>22894.634725</td>\n",
       "      <td>8195.536348</td>\n",
       "      <td>0.381323</td>\n",
       "      <td>1.531987</td>\n",
       "      <td>6768.613024</td>\n",
       "    </tr>\n",
       "    <tr>\n",
       "      <td>min</td>\n",
       "      <td>0.000000</td>\n",
       "      <td>2015.000000</td>\n",
       "      <td>0.000000</td>\n",
       "      <td>10931.000000</td>\n",
       "      <td>0.000000</td>\n",
       "      <td>0.000000</td>\n",
       "      <td>0.000000</td>\n",
       "    </tr>\n",
       "    <tr>\n",
       "      <td>25%</td>\n",
       "      <td>580.000000</td>\n",
       "      <td>2017.000000</td>\n",
       "      <td>6476.000000</td>\n",
       "      <td>18590.000000</td>\n",
       "      <td>0.000000</td>\n",
       "      <td>1.000000</td>\n",
       "      <td>4931.333333</td>\n",
       "    </tr>\n",
       "    <tr>\n",
       "      <td>50%</td>\n",
       "      <td>1171.000000</td>\n",
       "      <td>2017.000000</td>\n",
       "      <td>24360.000000</td>\n",
       "      <td>22038.000000</td>\n",
       "      <td>0.000000</td>\n",
       "      <td>3.000000</td>\n",
       "      <td>9016.500000</td>\n",
       "    </tr>\n",
       "    <tr>\n",
       "      <td>75%</td>\n",
       "      <td>1784.000000</td>\n",
       "      <td>2019.000000</td>\n",
       "      <td>38213.000000</td>\n",
       "      <td>29999.000000</td>\n",
       "      <td>0.000000</td>\n",
       "      <td>3.000000</td>\n",
       "      <td>12820.000000</td>\n",
       "    </tr>\n",
       "    <tr>\n",
       "      <td>max</td>\n",
       "      <td>2402.000000</td>\n",
       "      <td>2020.000000</td>\n",
       "      <td>150850.000000</td>\n",
       "      <td>55419.000000</td>\n",
       "      <td>3.000000</td>\n",
       "      <td>5.000000</td>\n",
       "      <td>57654.000000</td>\n",
       "    </tr>\n",
       "  </tbody>\n",
       "</table>\n",
       "</div>"
      ],
      "text/plain": [
       "             index         Year        Mileage         Price    Accidents  \\\n",
       "count  1869.000000  1869.000000    1869.000000   1869.000000  1869.000000   \n",
       "mean   1184.403959  2017.695024   26527.240770  24927.822900     0.131621   \n",
       "std     692.248579     1.531987   22894.634725   8195.536348     0.381323   \n",
       "min       0.000000  2015.000000       0.000000  10931.000000     0.000000   \n",
       "25%     580.000000  2017.000000    6476.000000  18590.000000     0.000000   \n",
       "50%    1171.000000  2017.000000   24360.000000  22038.000000     0.000000   \n",
       "75%    1784.000000  2019.000000   38213.000000  29999.000000     0.000000   \n",
       "max    2402.000000  2020.000000  150850.000000  55419.000000     3.000000   \n",
       "\n",
       "         Years_old  Miles_per_year  \n",
       "count  1869.000000     1869.000000  \n",
       "mean      2.304976     9361.152550  \n",
       "std       1.531987     6768.613024  \n",
       "min       0.000000        0.000000  \n",
       "25%       1.000000     4931.333333  \n",
       "50%       3.000000     9016.500000  \n",
       "75%       3.000000    12820.000000  \n",
       "max       5.000000    57654.000000  "
      ]
     },
     "execution_count": 586,
     "metadata": {},
     "output_type": "execute_result"
    }
   ],
   "source": [
    "cars.describe()"
   ]
  },
  {
   "cell_type": "markdown",
   "metadata": {},
   "source": [
    "## Summary\n",
    "\n",
    "Now we have a pretty good idea of which features will be the most valuable and have explored relations between them. Some important findings were:\n",
    "* Creating new column miles_per_year adds additional predictive power.\n",
    "* Cars with more than 2 accidents are very sparse in our dataset and it would be better to group together with cars having 2 accidents. We preserve a stronger correlation this way.\n",
    "* Year will be better to use as an ordinal feature. We will subtract the current year of the column to create a column called “years old”.\n",
    "* Extracting the performance package from trim might or might not be useful. There isn’t a clear correlation with price so we can add this as an option in our data preparation phase."
   ]
  },
  {
   "cell_type": "markdown",
   "metadata": {},
   "source": [
    "# Prepare data for machine learning\n",
    "\n",
    "It’s time to prepare the data for Machine Learning algorithms. Instead of doing this manually, we write functions for this purpose, for several good reasons:\n",
    "* This will allow us to reproduce these transformations on any dataset (e.g., the next time you get a fresh dataset).\n",
    "* We will gradually build a library of transformation functions that we can reuse in future projects.\n",
    "* This will make it possible for us to easily try various transformations and see which combination of transformations work best.\n",
    "\n",
    "We need a preparation pipeline for numerical attributes and categorical attributes. Let’s start with the numerical attributes!"
   ]
  },
  {
   "cell_type": "code",
   "execution_count": 785,
   "metadata": {},
   "outputs": [],
   "source": [
    "X_train = train_set.drop(\"Price\", axis=1)\n",
    "y_train = train_set[\"Price\"].copy()"
   ]
  },
  {
   "cell_type": "markdown",
   "metadata": {},
   "source": [
    "we reorder columns so numerical attributes are before categorical (not necessary)."
   ]
  },
  {
   "cell_type": "code",
   "execution_count": 786,
   "metadata": {},
   "outputs": [
    {
     "data": {
      "text/html": [
       "<div>\n",
       "<style scoped>\n",
       "    .dataframe tbody tr th:only-of-type {\n",
       "        vertical-align: middle;\n",
       "    }\n",
       "\n",
       "    .dataframe tbody tr th {\n",
       "        vertical-align: top;\n",
       "    }\n",
       "\n",
       "    .dataframe thead th {\n",
       "        text-align: right;\n",
       "    }\n",
       "</style>\n",
       "<table border=\"1\" class=\"dataframe\">\n",
       "  <thead>\n",
       "    <tr style=\"text-align: right;\">\n",
       "      <th></th>\n",
       "      <th>Year</th>\n",
       "      <th>Mileage</th>\n",
       "      <th>Accidents</th>\n",
       "      <th>Drive</th>\n",
       "      <th>Engine</th>\n",
       "      <th>Trim</th>\n",
       "    </tr>\n",
       "  </thead>\n",
       "  <tbody>\n",
       "    <tr>\n",
       "      <td>1527</td>\n",
       "      <td>2017</td>\n",
       "      <td>50008</td>\n",
       "      <td>0</td>\n",
       "      <td>FWD</td>\n",
       "      <td>2.4L Inline-4</td>\n",
       "      <td>I4 FWD</td>\n",
       "    </tr>\n",
       "    <tr>\n",
       "      <td>275</td>\n",
       "      <td>2019</td>\n",
       "      <td>29795</td>\n",
       "      <td>0</td>\n",
       "      <td>FWD</td>\n",
       "      <td>2.4L Inline-4</td>\n",
       "      <td>2.4L FWD with Technology Package</td>\n",
       "    </tr>\n",
       "    <tr>\n",
       "      <td>430</td>\n",
       "      <td>2020</td>\n",
       "      <td>0</td>\n",
       "      <td>0</td>\n",
       "      <td>SH-AWD</td>\n",
       "      <td>3.5L V-6</td>\n",
       "      <td>3.5L SH-AWD with A-Spec Package</td>\n",
       "    </tr>\n",
       "    <tr>\n",
       "      <td>1139</td>\n",
       "      <td>2019</td>\n",
       "      <td>14755</td>\n",
       "      <td>0</td>\n",
       "      <td>FWD</td>\n",
       "      <td>3.5L V-6</td>\n",
       "      <td>3.5L FWD with A-Spec Package</td>\n",
       "    </tr>\n",
       "    <tr>\n",
       "      <td>1583</td>\n",
       "      <td>2015</td>\n",
       "      <td>34637</td>\n",
       "      <td>0</td>\n",
       "      <td>FWD</td>\n",
       "      <td>3.5L V-6</td>\n",
       "      <td>V6 FWD with Technology Package</td>\n",
       "    </tr>\n",
       "  </tbody>\n",
       "</table>\n",
       "</div>"
      ],
      "text/plain": [
       "      Year  Mileage  Accidents   Drive         Engine  \\\n",
       "1527  2017    50008          0     FWD  2.4L Inline-4   \n",
       "275   2019    29795          0     FWD  2.4L Inline-4   \n",
       "430   2020        0          0  SH-AWD       3.5L V-6   \n",
       "1139  2019    14755          0     FWD       3.5L V-6   \n",
       "1583  2015    34637          0     FWD       3.5L V-6   \n",
       "\n",
       "                                  Trim  \n",
       "1527                            I4 FWD  \n",
       "275   2.4L FWD with Technology Package  \n",
       "430    3.5L SH-AWD with A-Spec Package  \n",
       "1139      3.5L FWD with A-Spec Package  \n",
       "1583    V6 FWD with Technology Package  "
      ]
     },
     "execution_count": 786,
     "metadata": {},
     "output_type": "execute_result"
    }
   ],
   "source": [
    "cols = [\"Year\", \"Mileage\", \"Accidents\", \"Drive\", \"Engine\", \"Trim\"]\n",
    "\n",
    "X_train = X_train[cols]\n",
    "X_train.head()"
   ]
  },
  {
   "cell_type": "markdown",
   "metadata": {},
   "source": [
    "Since we are using Scikit-Learn we want our transformers to work seamlessly with Scikit-Learn functionalities (such as pipelines), but thankfully for us all we need to do is create a class and implement three methods: fit() (which returns self), transform(), and fit_transform(). We get the last one for free by simply adding TransformerMixin as a base class.\n",
    "\n",
    "We also add BaseEstimator as a base class which gives us two extra methods (get_params() and set_params()) that will be useful for automatic hyperparameter tuning."
   ]
  },
  {
   "cell_type": "markdown",
   "metadata": {},
   "source": [
    "## Numerical Pipeline\n",
    "\n",
    "For example, here is a transformer class that adds the numerical attributes which were discussed earlier and its output when we pass it our training set."
   ]
  },
  {
   "cell_type": "code",
   "execution_count": 609,
   "metadata": {},
   "outputs": [
    {
     "data": {
      "text/html": [
       "<div>\n",
       "<style scoped>\n",
       "    .dataframe tbody tr th:only-of-type {\n",
       "        vertical-align: middle;\n",
       "    }\n",
       "\n",
       "    .dataframe tbody tr th {\n",
       "        vertical-align: top;\n",
       "    }\n",
       "\n",
       "    .dataframe thead th {\n",
       "        text-align: right;\n",
       "    }\n",
       "</style>\n",
       "<table border=\"1\" class=\"dataframe\">\n",
       "  <thead>\n",
       "    <tr style=\"text-align: right;\">\n",
       "      <th></th>\n",
       "      <th>Year</th>\n",
       "      <th>Mileage</th>\n",
       "      <th>Accidents</th>\n",
       "      <th>Drive</th>\n",
       "      <th>Engine</th>\n",
       "      <th>Trim</th>\n",
       "      <th>Years_old</th>\n",
       "      <th>Accidents_adj</th>\n",
       "      <th>Miles_per_year</th>\n",
       "    </tr>\n",
       "  </thead>\n",
       "  <tbody>\n",
       "    <tr>\n",
       "      <td>1527</td>\n",
       "      <td>2017</td>\n",
       "      <td>50008</td>\n",
       "      <td>0</td>\n",
       "      <td>FWD</td>\n",
       "      <td>2.4L Inline-4</td>\n",
       "      <td>I4 FWD</td>\n",
       "      <td>3</td>\n",
       "      <td>0</td>\n",
       "      <td>16669.333333</td>\n",
       "    </tr>\n",
       "    <tr>\n",
       "      <td>275</td>\n",
       "      <td>2019</td>\n",
       "      <td>29795</td>\n",
       "      <td>0</td>\n",
       "      <td>FWD</td>\n",
       "      <td>2.4L Inline-4</td>\n",
       "      <td>2.4L FWD with Technology Package</td>\n",
       "      <td>1</td>\n",
       "      <td>0</td>\n",
       "      <td>29795.000000</td>\n",
       "    </tr>\n",
       "    <tr>\n",
       "      <td>430</td>\n",
       "      <td>2020</td>\n",
       "      <td>0</td>\n",
       "      <td>0</td>\n",
       "      <td>SH-AWD</td>\n",
       "      <td>3.5L V-6</td>\n",
       "      <td>3.5L SH-AWD with A-Spec Package</td>\n",
       "      <td>0</td>\n",
       "      <td>0</td>\n",
       "      <td>0.000000</td>\n",
       "    </tr>\n",
       "    <tr>\n",
       "      <td>1139</td>\n",
       "      <td>2019</td>\n",
       "      <td>14755</td>\n",
       "      <td>0</td>\n",
       "      <td>FWD</td>\n",
       "      <td>3.5L V-6</td>\n",
       "      <td>3.5L FWD with A-Spec Package</td>\n",
       "      <td>1</td>\n",
       "      <td>0</td>\n",
       "      <td>14755.000000</td>\n",
       "    </tr>\n",
       "    <tr>\n",
       "      <td>1583</td>\n",
       "      <td>2015</td>\n",
       "      <td>34637</td>\n",
       "      <td>0</td>\n",
       "      <td>FWD</td>\n",
       "      <td>3.5L V-6</td>\n",
       "      <td>V6 FWD with Technology Package</td>\n",
       "      <td>5</td>\n",
       "      <td>0</td>\n",
       "      <td>6927.400000</td>\n",
       "    </tr>\n",
       "    <tr>\n",
       "      <td>...</td>\n",
       "      <td>...</td>\n",
       "      <td>...</td>\n",
       "      <td>...</td>\n",
       "      <td>...</td>\n",
       "      <td>...</td>\n",
       "      <td>...</td>\n",
       "      <td>...</td>\n",
       "      <td>...</td>\n",
       "      <td>...</td>\n",
       "    </tr>\n",
       "    <tr>\n",
       "      <td>182</td>\n",
       "      <td>2016</td>\n",
       "      <td>57832</td>\n",
       "      <td>0</td>\n",
       "      <td>FWD</td>\n",
       "      <td>3.5L V-6</td>\n",
       "      <td>V6 FWD with Technology Package</td>\n",
       "      <td>4</td>\n",
       "      <td>0</td>\n",
       "      <td>14458.000000</td>\n",
       "    </tr>\n",
       "    <tr>\n",
       "      <td>1622</td>\n",
       "      <td>2017</td>\n",
       "      <td>36472</td>\n",
       "      <td>1</td>\n",
       "      <td>FWD</td>\n",
       "      <td>2.4L Inline-4</td>\n",
       "      <td>I4 FWD</td>\n",
       "      <td>3</td>\n",
       "      <td>1</td>\n",
       "      <td>12157.333333</td>\n",
       "    </tr>\n",
       "    <tr>\n",
       "      <td>2098</td>\n",
       "      <td>2016</td>\n",
       "      <td>32311</td>\n",
       "      <td>1</td>\n",
       "      <td>FWD</td>\n",
       "      <td>3.5L V-6</td>\n",
       "      <td>V6 FWD</td>\n",
       "      <td>4</td>\n",
       "      <td>1</td>\n",
       "      <td>8077.750000</td>\n",
       "    </tr>\n",
       "    <tr>\n",
       "      <td>1120</td>\n",
       "      <td>2018</td>\n",
       "      <td>11802</td>\n",
       "      <td>0</td>\n",
       "      <td>FWD</td>\n",
       "      <td>3.5L V-6</td>\n",
       "      <td>3.5L FWD with Technology Package</td>\n",
       "      <td>2</td>\n",
       "      <td>0</td>\n",
       "      <td>5901.000000</td>\n",
       "    </tr>\n",
       "    <tr>\n",
       "      <td>1159</td>\n",
       "      <td>2017</td>\n",
       "      <td>37240</td>\n",
       "      <td>0</td>\n",
       "      <td>FWD</td>\n",
       "      <td>3.5L V-6</td>\n",
       "      <td>V6 FWD with Technology Package</td>\n",
       "      <td>3</td>\n",
       "      <td>0</td>\n",
       "      <td>12413.333333</td>\n",
       "    </tr>\n",
       "  </tbody>\n",
       "</table>\n",
       "<p>1869 rows × 9 columns</p>\n",
       "</div>"
      ],
      "text/plain": [
       "      Year  Mileage  Accidents   Drive         Engine  \\\n",
       "1527  2017    50008          0     FWD  2.4L Inline-4   \n",
       "275   2019    29795          0     FWD  2.4L Inline-4   \n",
       "430   2020        0          0  SH-AWD       3.5L V-6   \n",
       "1139  2019    14755          0     FWD       3.5L V-6   \n",
       "1583  2015    34637          0     FWD       3.5L V-6   \n",
       "...    ...      ...        ...     ...            ...   \n",
       "182   2016    57832          0     FWD       3.5L V-6   \n",
       "1622  2017    36472          1     FWD  2.4L Inline-4   \n",
       "2098  2016    32311          1     FWD       3.5L V-6   \n",
       "1120  2018    11802          0     FWD       3.5L V-6   \n",
       "1159  2017    37240          0     FWD       3.5L V-6   \n",
       "\n",
       "                                  Trim  Years_old  Accidents_adj  \\\n",
       "1527                            I4 FWD          3              0   \n",
       "275   2.4L FWD with Technology Package          1              0   \n",
       "430    3.5L SH-AWD with A-Spec Package          0              0   \n",
       "1139      3.5L FWD with A-Spec Package          1              0   \n",
       "1583    V6 FWD with Technology Package          5              0   \n",
       "...                                ...        ...            ...   \n",
       "182     V6 FWD with Technology Package          4              0   \n",
       "1622                            I4 FWD          3              1   \n",
       "2098                            V6 FWD          4              1   \n",
       "1120  3.5L FWD with Technology Package          2              0   \n",
       "1159    V6 FWD with Technology Package          3              0   \n",
       "\n",
       "      Miles_per_year  \n",
       "1527    16669.333333  \n",
       "275     29795.000000  \n",
       "430         0.000000  \n",
       "1139    14755.000000  \n",
       "1583     6927.400000  \n",
       "...              ...  \n",
       "182     14458.000000  \n",
       "1622    12157.333333  \n",
       "2098     8077.750000  \n",
       "1120     5901.000000  \n",
       "1159    12413.333333  \n",
       "\n",
       "[1869 rows x 9 columns]"
      ]
     },
     "execution_count": 609,
     "metadata": {},
     "output_type": "execute_result"
    }
   ],
   "source": [
    "from sklearn.base import BaseEstimator, TransformerMixin\n",
    "\n",
    "class NumericalAttributesAdder(BaseEstimator, TransformerMixin):\n",
    "    def __init__(self, add_miles_per_year = True):\n",
    "        self.add_miles_per_year = add_miles_per_year\n",
    "    def fit(self, X, y=None):\n",
    "        return self\n",
    "    def transform(self, X):\n",
    "        years_old = abs(X[\"Year\"] - 2020)\n",
    "        accidents_adjusted = X[\"Accidents\"].replace(3, 2)\n",
    "        if self.add_miles_per_year:\n",
    "            miles_per_year = X[\"Mileage\"] / years_old.replace(0, 1)\n",
    "            return pd.concat([X, years_old.rename(\"Years_old\"),\n",
    "                              accidents_adjusted.rename(\"Accidents_adj\"),\n",
    "                              miles_per_year.rename(\"Miles_per_year\")],\n",
    "                              axis=1)\n",
    "        else:\n",
    "            return pd.concat([X, years_old.rename(\"Years_old\"),\n",
    "                              accidents_adjusted.rename(\"Accidents_adj\")],\n",
    "                              axis=1)\n",
    "        \n",
    "num_attr_adder = NumericalAttributesAdder(add_miles_per_year = True)\n",
    "num_attr_adder.transform(X_train)"
   ]
  },
  {
   "cell_type": "markdown",
   "metadata": {},
   "source": [
    "Now after we add new attributes we want to select which attributes we use in our machine learning algorithms. We use the same method as above to create a custom transformer that will select the attributes."
   ]
  },
  {
   "cell_type": "code",
   "execution_count": 617,
   "metadata": {},
   "outputs": [],
   "source": [
    "class DataFrameSelector(BaseEstimator, TransformerMixin):\n",
    "    def __init__(self, attribute_indices):\n",
    "        self.attribute_indices = attribute_indices\n",
    "    def fit(self, X, y=None):\n",
    "        return self\n",
    "    def transform(self, X):\n",
    "        return X[self.attribute_indices]"
   ]
  },
  {
   "cell_type": "markdown",
   "metadata": {},
   "source": [
    "As you can see, there are many data transformation steps that need to be executed in the right order. Fortunately, Scikit-Learn provides the Pipeline class to help with sequences of transformations. Here is the pipeline for the numerical attributes:"
   ]
  },
  {
   "cell_type": "code",
   "execution_count": 737,
   "metadata": {},
   "outputs": [],
   "source": [
    "from sklearn.pipeline import Pipeline\n",
    "from sklearn.preprocessing import StandardScaler\n",
    "\n",
    "num_attribs = [\"Year\", \"Mileage\", \"Accidents\"]\n",
    "\n",
    "cars_num = X_train[num_attribs]\n",
    "\n",
    "num_pipeline = Pipeline([\n",
    "        ('num_attribs_adder', NumericalAttributesAdder()),\n",
    "        ('select_numeric', DataFrameSelector([\"Mileage\", \"Years_old\", \"Accidents_adj\", \"Miles_per_year\"])),\n",
    "        ('std_scaler', StandardScaler())\n",
    "    ])\n",
    "\n",
    "cars_num_tr = num_pipeline.fit_transform(cars_num)"
   ]
  },
  {
   "cell_type": "markdown",
   "metadata": {},
   "source": [
    "We used our two custom transformers from above and then Scikit-Learn’s StandardScaler() transformer to standardize all numerical attributes."
   ]
  },
  {
   "cell_type": "markdown",
   "metadata": {},
   "source": [
    "## Categorical Pipeline\n",
    "\n",
    "Now the next step is to create a pipeline for our categorical attributes. Since these attributes are strings, we need to use OneHotEncoder to transform them into numerical values. But first we create a custom transformer that will extract the package of a car from the Trim attribute we discussed earlier. We initialize add_trim_features=True to give us the option whether to add the new package attribute."
   ]
  },
  {
   "cell_type": "code",
   "execution_count": 613,
   "metadata": {},
   "outputs": [
    {
     "data": {
      "text/html": [
       "<div>\n",
       "<style scoped>\n",
       "    .dataframe tbody tr th:only-of-type {\n",
       "        vertical-align: middle;\n",
       "    }\n",
       "\n",
       "    .dataframe tbody tr th {\n",
       "        vertical-align: top;\n",
       "    }\n",
       "\n",
       "    .dataframe thead th {\n",
       "        text-align: right;\n",
       "    }\n",
       "</style>\n",
       "<table border=\"1\" class=\"dataframe\">\n",
       "  <thead>\n",
       "    <tr style=\"text-align: right;\">\n",
       "      <th></th>\n",
       "      <th>Year</th>\n",
       "      <th>Mileage</th>\n",
       "      <th>Accidents</th>\n",
       "      <th>Drive</th>\n",
       "      <th>Engine</th>\n",
       "      <th>Trim</th>\n",
       "      <th>Package</th>\n",
       "    </tr>\n",
       "  </thead>\n",
       "  <tbody>\n",
       "    <tr>\n",
       "      <td>1527</td>\n",
       "      <td>2017</td>\n",
       "      <td>50008</td>\n",
       "      <td>0</td>\n",
       "      <td>FWD</td>\n",
       "      <td>2.4L Inline-4</td>\n",
       "      <td>I4 FWD</td>\n",
       "      <td>Standard</td>\n",
       "    </tr>\n",
       "    <tr>\n",
       "      <td>275</td>\n",
       "      <td>2019</td>\n",
       "      <td>29795</td>\n",
       "      <td>0</td>\n",
       "      <td>FWD</td>\n",
       "      <td>2.4L Inline-4</td>\n",
       "      <td>2.4L FWD with Technology Package</td>\n",
       "      <td>Technology</td>\n",
       "    </tr>\n",
       "    <tr>\n",
       "      <td>430</td>\n",
       "      <td>2020</td>\n",
       "      <td>0</td>\n",
       "      <td>0</td>\n",
       "      <td>SH-AWD</td>\n",
       "      <td>3.5L V-6</td>\n",
       "      <td>3.5L SH-AWD with A-Spec Package</td>\n",
       "      <td>A-Spec</td>\n",
       "    </tr>\n",
       "    <tr>\n",
       "      <td>1139</td>\n",
       "      <td>2019</td>\n",
       "      <td>14755</td>\n",
       "      <td>0</td>\n",
       "      <td>FWD</td>\n",
       "      <td>3.5L V-6</td>\n",
       "      <td>3.5L FWD with A-Spec Package</td>\n",
       "      <td>A-Spec</td>\n",
       "    </tr>\n",
       "    <tr>\n",
       "      <td>1583</td>\n",
       "      <td>2015</td>\n",
       "      <td>34637</td>\n",
       "      <td>0</td>\n",
       "      <td>FWD</td>\n",
       "      <td>3.5L V-6</td>\n",
       "      <td>V6 FWD with Technology Package</td>\n",
       "      <td>Technology</td>\n",
       "    </tr>\n",
       "    <tr>\n",
       "      <td>...</td>\n",
       "      <td>...</td>\n",
       "      <td>...</td>\n",
       "      <td>...</td>\n",
       "      <td>...</td>\n",
       "      <td>...</td>\n",
       "      <td>...</td>\n",
       "      <td>...</td>\n",
       "    </tr>\n",
       "    <tr>\n",
       "      <td>182</td>\n",
       "      <td>2016</td>\n",
       "      <td>57832</td>\n",
       "      <td>0</td>\n",
       "      <td>FWD</td>\n",
       "      <td>3.5L V-6</td>\n",
       "      <td>V6 FWD with Technology Package</td>\n",
       "      <td>Technology</td>\n",
       "    </tr>\n",
       "    <tr>\n",
       "      <td>1622</td>\n",
       "      <td>2017</td>\n",
       "      <td>36472</td>\n",
       "      <td>1</td>\n",
       "      <td>FWD</td>\n",
       "      <td>2.4L Inline-4</td>\n",
       "      <td>I4 FWD</td>\n",
       "      <td>Standard</td>\n",
       "    </tr>\n",
       "    <tr>\n",
       "      <td>2098</td>\n",
       "      <td>2016</td>\n",
       "      <td>32311</td>\n",
       "      <td>1</td>\n",
       "      <td>FWD</td>\n",
       "      <td>3.5L V-6</td>\n",
       "      <td>V6 FWD</td>\n",
       "      <td>Standard</td>\n",
       "    </tr>\n",
       "    <tr>\n",
       "      <td>1120</td>\n",
       "      <td>2018</td>\n",
       "      <td>11802</td>\n",
       "      <td>0</td>\n",
       "      <td>FWD</td>\n",
       "      <td>3.5L V-6</td>\n",
       "      <td>3.5L FWD with Technology Package</td>\n",
       "      <td>Technology</td>\n",
       "    </tr>\n",
       "    <tr>\n",
       "      <td>1159</td>\n",
       "      <td>2017</td>\n",
       "      <td>37240</td>\n",
       "      <td>0</td>\n",
       "      <td>FWD</td>\n",
       "      <td>3.5L V-6</td>\n",
       "      <td>V6 FWD with Technology Package</td>\n",
       "      <td>Technology</td>\n",
       "    </tr>\n",
       "  </tbody>\n",
       "</table>\n",
       "<p>1869 rows × 7 columns</p>\n",
       "</div>"
      ],
      "text/plain": [
       "      Year  Mileage  Accidents   Drive         Engine  \\\n",
       "1527  2017    50008          0     FWD  2.4L Inline-4   \n",
       "275   2019    29795          0     FWD  2.4L Inline-4   \n",
       "430   2020        0          0  SH-AWD       3.5L V-6   \n",
       "1139  2019    14755          0     FWD       3.5L V-6   \n",
       "1583  2015    34637          0     FWD       3.5L V-6   \n",
       "...    ...      ...        ...     ...            ...   \n",
       "182   2016    57832          0     FWD       3.5L V-6   \n",
       "1622  2017    36472          1     FWD  2.4L Inline-4   \n",
       "2098  2016    32311          1     FWD       3.5L V-6   \n",
       "1120  2018    11802          0     FWD       3.5L V-6   \n",
       "1159  2017    37240          0     FWD       3.5L V-6   \n",
       "\n",
       "                                  Trim     Package  \n",
       "1527                            I4 FWD    Standard  \n",
       "275   2.4L FWD with Technology Package  Technology  \n",
       "430    3.5L SH-AWD with A-Spec Package      A-Spec  \n",
       "1139      3.5L FWD with A-Spec Package      A-Spec  \n",
       "1583    V6 FWD with Technology Package  Technology  \n",
       "...                                ...         ...  \n",
       "182     V6 FWD with Technology Package  Technology  \n",
       "1622                            I4 FWD    Standard  \n",
       "2098                            V6 FWD    Standard  \n",
       "1120  3.5L FWD with Technology Package  Technology  \n",
       "1159    V6 FWD with Technology Package  Technology  \n",
       "\n",
       "[1869 rows x 7 columns]"
      ]
     },
     "execution_count": 613,
     "metadata": {},
     "output_type": "execute_result"
    }
   ],
   "source": [
    "class CategoricalAttributesAdder(BaseEstimator, TransformerMixin):\n",
    "    def __init__(self, add_trim_features = True):\n",
    "        self.add_trim_features = add_trim_features\n",
    "    def fit(self, X, y=None):\n",
    "        return self\n",
    "    def transform(self, X):\n",
    "        if self.add_trim_features:\n",
    "            package = extract_package(X[\"Trim\"])\n",
    "            return pd.concat([X, package.rename(\"Package\")], axis=1)\n",
    "        else:\n",
    "            return X\n",
    "        \n",
    "cat_attr_adder = CategoricalAttributesAdder(add_trim_features = True)\n",
    "cat_attr_adder.transform(X_train)"
   ]
  },
  {
   "cell_type": "markdown",
   "metadata": {},
   "source": [
    "Now the full pipeline for our categorical attributes is ready. We use CategoricalAttributesAdder, DataFrameSelector, and OneHotEncoder to completely transform our categorical attributes into a format suited for Machine Learning. The pipeline is shown below:"
   ]
  },
  {
   "cell_type": "code",
   "execution_count": 738,
   "metadata": {},
   "outputs": [],
   "source": [
    "from sklearn.preprocessing import OneHotEncoder\n",
    "\n",
    "cat_attribs = [\"Drive\", \"Engine\", \"Trim\"]\n",
    "cars_cat = X_train[cat_attribs]\n",
    "\n",
    "cat_pipeline = Pipeline([\n",
    "        (\"cat_attribs_adder\", CategoricalAttributesAdder()),\n",
    "        (\"select_categoric\", DataFrameSelector([\"Drive\", \"Engine\", \"Trim\"])),\n",
    "        (\"one_hot\", OneHotEncoder())\n",
    "    ])\n",
    "\n",
    "cars_cat_tr = cat_pipeline.fit_transform(cars_cat)"
   ]
  },
  {
   "cell_type": "markdown",
   "metadata": {},
   "source": [
    "## Full Pipeline\n",
    "\n",
    "So far, we have handled the categorical columns and numerical columns separately. It would be more convenient to have a single transformer able to handle all columns, applying the appropriate transformations to each column. Fortunately, Scikit-Learn introduced the ColumnTransformer for this purpose, and the good news is that it works great with pandas DataFrames. Let’s use it to apply all the transformations to the training set:"
   ]
  },
  {
   "cell_type": "code",
   "execution_count": 739,
   "metadata": {},
   "outputs": [],
   "source": [
    "from sklearn.compose import ColumnTransformer\n",
    "\n",
    "full_pipeline = ColumnTransformer([\n",
    "        (\"num\", num_pipeline, num_attribs),\n",
    "        (\"cat\", cat_pipeline, cat_attribs)\n",
    "    ])\n",
    "\n",
    "cars_prepared = full_pipeline.fit_transform(X_train)"
   ]
  },
  {
   "cell_type": "code",
   "execution_count": 740,
   "metadata": {},
   "outputs": [
    {
     "data": {
      "text/plain": [
       "(1869, 32)"
      ]
     },
     "execution_count": 740,
     "metadata": {},
     "output_type": "execute_result"
    }
   ],
   "source": [
    "cars_prepared.shape"
   ]
  },
  {
   "cell_type": "markdown",
   "metadata": {},
   "source": [
    "In this pipeline, we specify that the numerical columns should be transformed using the num_pipeline that we defined earlier, and the categorical columns should be transformed using the cat_pipeline we defined earlier. Finally, we apply this ColumnTransformer to the training set: it applies each transformer to the appropriate columns and concatenates the outputs along the second axis (the transformers must return the same number of rows).\n",
    "\n",
    "And that’s it! We have a preprocessing pipeline that takes the full training set and applies the appropriate transformations to each column."
   ]
  },
  {
   "cell_type": "markdown",
   "metadata": {},
   "source": [
    "# Modeling\n",
    "\n",
    "At last! We framed the problem, got the data and explored it, sampled a training set and a test set, and we wrote transformation pipelines to clean up and prepare our data for Machine Learning algorithms automatically. We are now ready to select and train Machine Learning models.\n",
    "\n",
    "Our first base model is a Linear Regression with which we will try to improve from. Using Scikit-Learn’s cross_val_score() allows us to randomly split the training set into 10 distinct folds, and then train and evaluates our model 10 times, picking a different fold for evaluation each time and training on the other 9 folds. The result is an array containing the 10 evaluation scores:"
   ]
  },
  {
   "cell_type": "markdown",
   "metadata": {},
   "source": [
    "## Base model - Linear Regression"
   ]
  },
  {
   "cell_type": "code",
   "execution_count": 643,
   "metadata": {},
   "outputs": [],
   "source": [
    "from sklearn.linear_model import LinearRegression\n",
    "from sklearn.model_selection import cross_val_score\n",
    "\n",
    "lin_reg = LinearRegression()\n",
    "lin_reg_scores = np.sqrt(-cross_val_score(lin_reg, cars_prepared, y_train, cv=10, scoring=\"neg_mean_squared_error\"))"
   ]
  },
  {
   "cell_type": "code",
   "execution_count": 644,
   "metadata": {},
   "outputs": [
    {
     "name": "stdout",
     "output_type": "stream",
     "text": [
      "Scores: [2402.53150985 2563.72194172 2992.14666264 2523.37921743 2115.13853928\n",
      " 2462.32000582 2171.3699367  2402.83363175 2564.96795384 2287.88676613]\n",
      "Mean: 2448.629616517125\n",
      "Standard deviation: 233.69132661285403\n"
     ]
    }
   ],
   "source": [
    "def display_scores(scores):\n",
    "    print(\"Scores:\", scores)\n",
    "    print(\"Mean:\", scores.mean())\n",
    "    print(\"Standard deviation:\", scores.std())\n",
    "    \n",
    "display_scores(lin_reg_scores)"
   ]
  },
  {
   "cell_type": "markdown",
   "metadata": {},
   "source": [
    "## Polynomical Regression\n",
    "\n",
    "Polynomial regression might be able to better capture the fact that cars depreciate less and less each year they get older.  We will try to capture this relationship with a polynomial degree of 2."
   ]
  },
  {
   "cell_type": "code",
   "execution_count": 648,
   "metadata": {},
   "outputs": [],
   "source": [
    "from sklearn.preprocessing import PolynomialFeatures\n",
    "\n",
    "poly_reg = Pipeline([\n",
    "        (\"poly_features\", PolynomialFeatures(degree=2)),\n",
    "        (\"lin_reg\", LinearRegression())\n",
    "    ])\n",
    "\n",
    "poly_reg_scores = np.sqrt(-cross_val_score(poly_reg, cars_prepared, y_train, cv=10,\n",
    "                                           scoring=\"neg_mean_squared_error\"))"
   ]
  },
  {
   "cell_type": "code",
   "execution_count": 649,
   "metadata": {},
   "outputs": [
    {
     "name": "stdout",
     "output_type": "stream",
     "text": [
      "Scores: [2042.79207444 3377.46658497 2736.91927982 2146.09447092 1827.28906299\n",
      " 2503.52321105 1745.79756458 2111.21893759 2140.79878176 1950.68731506]\n",
      "Mean: 2258.2587283169737\n",
      "Standard deviation: 466.8267908064259\n"
     ]
    }
   ],
   "source": [
    "display_scores(poly_reg_scores)"
   ]
  },
  {
   "cell_type": "markdown",
   "metadata": {},
   "source": [
    "## Polynomial Regression with Ridge Regularization\n",
    "\n",
    "Since the polynomial regression performed better than the base linear regression we can try a regularized version of it to see if we can improve performance even more."
   ]
  },
  {
   "cell_type": "code",
   "execution_count": 679,
   "metadata": {},
   "outputs": [
    {
     "name": "stderr",
     "output_type": "stream",
     "text": [
      "//anaconda3/envs/metis/lib/python3.7/site-packages/sklearn/linear_model/sag.py:337: ConvergenceWarning: The max_iter was reached which means the coef_ did not converge\n",
      "  \"the coef_ did not converge\", ConvergenceWarning)\n"
     ]
    }
   ],
   "source": [
    "from sklearn.linear_model import Ridge\n",
    "\n",
    "ridge_poly_reg = Pipeline([\n",
    "        (\"poly_features\", PolynomialFeatures(degree=2)),\n",
    "        (\"lin_reg\", Ridge(alpha=0.1, solver=\"sag\"))\n",
    "    ])\n",
    "\n",
    "ridge_poly_reg_scores = np.sqrt(-cross_val_score(en_poly_reg, cars_prepared, y_train, cv=10,\n",
    "                                              scoring=\"neg_mean_squared_error\"))"
   ]
  },
  {
   "cell_type": "code",
   "execution_count": 680,
   "metadata": {},
   "outputs": [
    {
     "name": "stdout",
     "output_type": "stream",
     "text": [
      "Scores: [1990.82244837 3306.48583544 2800.9621974  2289.81793015 1890.16896942\n",
      " 2462.9164702  1795.59395914 2170.30275306 2066.21332387 2033.98008065]\n",
      "Mean: 2280.7263967698104\n",
      "Standard deviation: 441.26289925102543\n"
     ]
    }
   ],
   "source": [
    "display_scores(ridge_poly_reg_scores)"
   ]
  },
  {
   "cell_type": "markdown",
   "metadata": {},
   "source": [
    "## Random Forest Regressor\n",
    "\n",
    "Since it seems we reached the best we can do with a simple linear model let's try a very different model––A Random Forest Regressor.  "
   ]
  },
  {
   "cell_type": "code",
   "execution_count": 663,
   "metadata": {},
   "outputs": [],
   "source": [
    "from sklearn.ensemble import RandomForestRegressor\n",
    "\n",
    "forest_reg = RandomForestRegressor(n_estimators=100, random_state=42)\n",
    "\n",
    "forest_reg_scores = np.sqrt(-cross_val_score(forest_reg, cars_prepared, y_train, cv=10,\n",
    "                                             scoring=\"neg_mean_squared_error\"))"
   ]
  },
  {
   "cell_type": "code",
   "execution_count": 664,
   "metadata": {},
   "outputs": [
    {
     "name": "stdout",
     "output_type": "stream",
     "text": [
      "Scores: [1393.02402836 1763.02415225 2196.74228505 1748.00154264 1567.88625726\n",
      " 1699.62388666 1587.52998912 1632.53623941 1443.80229374 1326.9144935 ]\n",
      "Mean: 1635.9085167991286\n",
      "Standard deviation: 233.59607429848862\n"
     ]
    }
   ],
   "source": [
    "display_scores(forest_reg_scores)"
   ]
  },
  {
   "cell_type": "markdown",
   "metadata": {},
   "source": [
    "## Support Vector Machine Regressor\n",
    "\n",
    "Let's try a SVM Regressor.  Since our dataset is small I suspect SVM might work fairly well.  We will use a polynomial kernel with a degree of 2 since we suspect our data to have a polynomial relationship with the target variable."
   ]
  },
  {
   "cell_type": "code",
   "execution_count": 675,
   "metadata": {},
   "outputs": [],
   "source": [
    "from sklearn.svm import SVR\n",
    "\n",
    "svm_reg = SVR(kernel=\"poly\", degree=2, C=100, epsilon=0.1, gamma=\"scale\")\n",
    "\n",
    "svm_reg_scores = np.sqrt(-cross_val_score(svm_reg, cars_prepared, y_train, cv=10,\n",
    "                                          scoring=\"neg_mean_squared_error\"))"
   ]
  },
  {
   "cell_type": "code",
   "execution_count": 676,
   "metadata": {},
   "outputs": [
    {
     "name": "stdout",
     "output_type": "stream",
     "text": [
      "Scores: [3337.59837592 3715.04354926 3244.33675717 3218.39572011 2261.11591161\n",
      " 3340.71066296 3493.34243379 3264.47141529 3903.93099711 3317.26224324]\n",
      "Mean: 3309.6208066471336\n",
      "Standard deviation: 408.3036321268142\n"
     ]
    }
   ],
   "source": [
    "display_scores(svm_reg_scores)"
   ]
  },
  {
   "cell_type": "markdown",
   "metadata": {},
   "source": [
    "## Gradient Boosting Regressor\n",
    "\n",
    "Since Random Forest Regressor worked significantly better than all the other models we will try a Gradient Boosting Regressor as well."
   ]
  },
  {
   "cell_type": "code",
   "execution_count": 677,
   "metadata": {},
   "outputs": [],
   "source": [
    "from sklearn.ensemble import GradientBoostingRegressor\n",
    "\n",
    "gb_reg = GradientBoostingRegressor()\n",
    "\n",
    "gb_reg_scores = np.sqrt(-cross_val_score(gb_reg, cars_prepared, y_train, cv=10,\n",
    "                                         scoring=\"neg_mean_squared_error\"))"
   ]
  },
  {
   "cell_type": "code",
   "execution_count": 678,
   "metadata": {},
   "outputs": [
    {
     "name": "stdout",
     "output_type": "stream",
     "text": [
      "Scores: [1576.26597181 1862.18024158 2240.38399831 1738.09142372 1509.8881473\n",
      " 1901.97734642 1681.26645723 1844.06641238 1678.40402158 1499.69591823]\n",
      "Mean: 1753.2219938570713\n",
      "Standard deviation: 211.04125417672495\n"
     ]
    }
   ],
   "source": [
    "display_scores(gb_reg_scores)"
   ]
  },
  {
   "cell_type": "code",
   "execution_count": 722,
   "metadata": {},
   "outputs": [
    {
     "name": "stdout",
     "output_type": "stream",
     "text": [
      "Saving figure box_plot_scores\n"
     ]
    },
    {
     "data": {
      "image/png": "[encoded data removed]",
      "text/plain": [
       "<Figure size 576x432 with 1 Axes>"
      ]
     },
     "metadata": {
      "needs_background": "light"
     },
     "output_type": "display_data"
    }
   ],
   "source": [
    "plt.figure(figsize=(8, 6))\n",
    "plt.plot([1]*10, lin_reg_scores, \".\")\n",
    "plt.plot([2]*10, poly_reg_scores, \".\")\n",
    "plt.plot([3]*10, ridge_poly_reg_scores, \".\")\n",
    "plt.plot([4]*10, forest_reg_scores, \".\")\n",
    "plt.plot([5]*10, svm_reg_scores, \".\")\n",
    "plt.plot([6]*10, gb_reg_scores, \".\")\n",
    "plt.boxplot([lin_reg_scores, poly_reg_scores, ridge_poly_reg_scores,\n",
    "             forest_reg_scores, svm_reg_scores, gb_reg_scores],\n",
    "            labels=(\"Linear Reg\",\"Poly Reg\", \"Poly Reg Ridge\", \"Random Forest\",\n",
    "                                                 \"SVM\", \"Gradient Boosting\"))\n",
    "plt.xticks(rotation=45)\n",
    "plt.ylabel(\"RMSE\", fontsize=14)\n",
    "plt.grid(True)\n",
    "save_fig(\"box_plot_scores\")\n",
    "plt.show()"
   ]
  },
  {
   "cell_type": "markdown",
   "metadata": {},
   "source": [
    "We see that Polynomial Regression did slightly better than plain Linear Regression. Also, Random Forest Regressor and Gradient Boosting Regressor performed significantly better while SVM Regressor performed significantly worse. Remember we are just trying to get a general idea of which Machine Learning algorithms perform the best so all of these algorithms were trained with default settings."
   ]
  },
  {
   "cell_type": "markdown",
   "metadata": {},
   "source": [
    "# Fine-tune the System\n",
    "\n",
    "Now we have a shortlist of promising models. We now need to fine-tune them. Since we trained our models using default hyperparameters we will try and see which hyperparameters work best for our best models, Random Forest Regressor and Gradient Boosting Regressor.\n",
    "\n",
    "Instead of doing this manually, we get Scikit-Learn’s GridSearchCV to search for us. All we need to do is tell it which hyperparameters we want it to experiment with and what values to try out, and it will use cross-validation to evaluate all possible combinations of hyperparameter values."
   ]
  },
  {
   "cell_type": "markdown",
   "metadata": {},
   "source": [
    "## Random Forest"
   ]
  },
  {
   "cell_type": "code",
   "execution_count": 700,
   "metadata": {},
   "outputs": [
    {
     "name": "stdout",
     "output_type": "stream",
     "text": [
      "Fitting 5 folds for each of 96 candidates, totalling 480 fits\n"
     ]
    },
    {
     "name": "stderr",
     "output_type": "stream",
     "text": [
      "[Parallel(n_jobs=-1)]: Using backend LokyBackend with 8 concurrent workers.\n",
      "[Parallel(n_jobs=-1)]: Done  34 tasks      | elapsed:   14.5s\n",
      "[Parallel(n_jobs=-1)]: Done 184 tasks      | elapsed:   49.9s\n",
      "[Parallel(n_jobs=-1)]: Done 434 tasks      | elapsed:  2.1min\n",
      "[Parallel(n_jobs=-1)]: Done 480 out of 480 | elapsed:  2.2min finished\n",
      "//anaconda3/envs/metis/lib/python3.7/site-packages/sklearn/model_selection/_search.py:814: DeprecationWarning: The default of the `iid` parameter will change from True to False in version 0.22 and will be removed in 0.24. This will change numeric results when test-set sizes are unequal.\n",
      "  DeprecationWarning)\n"
     ]
    },
    {
     "data": {
      "text/plain": [
       "GridSearchCV(cv=5, error_score='raise-deprecating',\n",
       "             estimator=RandomForestRegressor(bootstrap=True, criterion='mse',\n",
       "                                             max_depth=None,\n",
       "                                             max_features='auto',\n",
       "                                             max_leaf_nodes=None,\n",
       "                                             min_impurity_decrease=0.0,\n",
       "                                             min_impurity_split=None,\n",
       "                                             min_samples_leaf=1,\n",
       "                                             min_samples_split=2,\n",
       "                                             min_weight_fraction_leaf=0.0,\n",
       "                                             n_estimators='warn', n_jobs=None,\n",
       "                                             oob_score=False, random_state=None,\n",
       "                                             verbose=0, warm_start=False),\n",
       "             iid='warn', n_jobs=-1,\n",
       "             param_grid=[{'bootstrap': [True], 'max_depth': [12, 14, None],\n",
       "                          'max_features': ['auto', 'sqrt'],\n",
       "                          'min_samples_leaf': [1, 2],\n",
       "                          'min_samples_split': [2, 3],\n",
       "                          'n_estimators': [100, 200, 300, 400]}],\n",
       "             pre_dispatch='2*n_jobs', refit=True, return_train_score=True,\n",
       "             scoring='neg_mean_squared_error', verbose=True)"
      ]
     },
     "execution_count": 700,
     "metadata": {},
     "output_type": "execute_result"
    }
   ],
   "source": [
    "from sklearn.model_selection import GridSearchCV\n",
    "\n",
    "forest_param_grid = [{'bootstrap': [True],\n",
    "     'max_depth': [12, 14, None],\n",
    "     'max_features': ['auto', 'sqrt'],\n",
    "     'min_samples_leaf': [1, 2],\n",
    "     'min_samples_split': [ 2, 3],\n",
    "     'n_estimators': [100, 200, 300, 400]}\n",
    "    ]\n",
    "\n",
    "forest_reg = RandomForestRegressor()\n",
    "\n",
    "forest_grid_search = GridSearchCV(forest_reg, forest_param_grid, cv=5,\n",
    "                                  scoring=\"neg_mean_squared_error\",\n",
    "                                  return_train_score=True,\n",
    "                                  verbose=True,\n",
    "                                  n_jobs=-1)\n",
    "\n",
    "forest_grid_search.fit(cars_prepared, y_train)"
   ]
  },
  {
   "cell_type": "markdown",
   "metadata": {},
   "source": [
    "We can get the best estimator directly:"
   ]
  },
  {
   "cell_type": "code",
   "execution_count": 701,
   "metadata": {},
   "outputs": [
    {
     "data": {
      "text/plain": [
       "RandomForestRegressor(bootstrap=True, criterion='mse', max_depth=14,\n",
       "                      max_features='sqrt', max_leaf_nodes=None,\n",
       "                      min_impurity_decrease=0.0, min_impurity_split=None,\n",
       "                      min_samples_leaf=1, min_samples_split=3,\n",
       "                      min_weight_fraction_leaf=0.0, n_estimators=400,\n",
       "                      n_jobs=None, oob_score=False, random_state=None,\n",
       "                      verbose=0, warm_start=False)"
      ]
     },
     "execution_count": 701,
     "metadata": {},
     "output_type": "execute_result"
    }
   ],
   "source": [
    "forest_grid_search.best_estimator_"
   ]
  },
  {
   "cell_type": "code",
   "execution_count": 702,
   "metadata": {},
   "outputs": [],
   "source": [
    "def grid_search_top_scores(cvres, k):\n",
    "    results = []\n",
    "    for mean_score, params in zip(cvres['mean_test_score'], cvres['params']):\n",
    "        results.append((np.sqrt(-mean_score), params))\n",
    "    results.sort(key=lambda x:x[0])\n",
    "    for item in results[:k]:\n",
    "        print(item)"
   ]
  },
  {
   "cell_type": "code",
   "execution_count": 703,
   "metadata": {},
   "outputs": [
    {
     "name": "stdout",
     "output_type": "stream",
     "text": [
      "(1678.3232263896753, {'bootstrap': True, 'max_depth': 14, 'max_features': 'sqrt', 'min_samples_leaf': 1, 'min_samples_split': 3, 'n_estimators': 400})\n",
      "(1680.279835972783, {'bootstrap': True, 'max_depth': 14, 'max_features': 'sqrt', 'min_samples_leaf': 1, 'min_samples_split': 2, 'n_estimators': 200})\n",
      "(1680.6881497796226, {'bootstrap': True, 'max_depth': 14, 'max_features': 'sqrt', 'min_samples_leaf': 1, 'min_samples_split': 3, 'n_estimators': 300})\n",
      "(1680.9853928021605, {'bootstrap': True, 'max_depth': 14, 'max_features': 'sqrt', 'min_samples_leaf': 1, 'min_samples_split': 2, 'n_estimators': 300})\n",
      "(1683.4905310921906, {'bootstrap': True, 'max_depth': 14, 'max_features': 'sqrt', 'min_samples_leaf': 1, 'min_samples_split': 3, 'n_estimators': 100})\n"
     ]
    }
   ],
   "source": [
    "cvres = forest_grid_search.cv_results_\n",
    "\n",
    "grid_search_top_scores(cvres, 5)"
   ]
  },
  {
   "cell_type": "markdown",
   "metadata": {},
   "source": [
    "## Gradient Boosting"
   ]
  },
  {
   "cell_type": "code",
   "execution_count": 715,
   "metadata": {},
   "outputs": [
    {
     "name": "stdout",
     "output_type": "stream",
     "text": [
      "Fitting 5 folds for each of 576 candidates, totalling 2880 fits\n"
     ]
    },
    {
     "name": "stderr",
     "output_type": "stream",
     "text": [
      "[Parallel(n_jobs=-1)]: Using backend LokyBackend with 8 concurrent workers.\n",
      "[Parallel(n_jobs=-1)]: Done  34 tasks      | elapsed:    1.8s\n",
      "[Parallel(n_jobs=-1)]: Done 184 tasks      | elapsed:    7.9s\n",
      "[Parallel(n_jobs=-1)]: Done 434 tasks      | elapsed:   19.5s\n",
      "[Parallel(n_jobs=-1)]: Done 784 tasks      | elapsed:   39.3s\n",
      "[Parallel(n_jobs=-1)]: Done 1234 tasks      | elapsed:  1.0min\n",
      "[Parallel(n_jobs=-1)]: Done 1784 tasks      | elapsed:  1.6min\n",
      "[Parallel(n_jobs=-1)]: Done 2434 tasks      | elapsed:  2.1min\n",
      "[Parallel(n_jobs=-1)]: Done 2880 out of 2880 | elapsed:  2.5min finished\n",
      "//anaconda3/envs/metis/lib/python3.7/site-packages/sklearn/model_selection/_search.py:814: DeprecationWarning: The default of the `iid` parameter will change from True to False in version 0.22 and will be removed in 0.24. This will change numeric results when test-set sizes are unequal.\n",
      "  DeprecationWarning)\n"
     ]
    },
    {
     "data": {
      "text/plain": [
       "GridSearchCV(cv=5, error_score='raise-deprecating',\n",
       "             estimator=GradientBoostingRegressor(alpha=0.9,\n",
       "                                                 criterion='friedman_mse',\n",
       "                                                 init=None, learning_rate=0.1,\n",
       "                                                 loss='ls', max_depth=3,\n",
       "                                                 max_features=None,\n",
       "                                                 max_leaf_nodes=None,\n",
       "                                                 min_impurity_decrease=0.0,\n",
       "                                                 min_impurity_split=None,\n",
       "                                                 min_samples_leaf=1,\n",
       "                                                 min_samples_split=2,\n",
       "                                                 min_weight_fraction_leaf=0.0,\n",
       "                                                 n_estimators=100,\n",
       "                                                 n_iter...\n",
       "                                                 verbose=0, warm_start=False),\n",
       "             iid='warn', n_jobs=-1,\n",
       "             param_grid=[{'learning_rate': [0.05, 0.1, 0.15], 'loss': ['ls'],\n",
       "                          'max_depth': [4, 5, 6, 7], 'max_features': ['sqrt'],\n",
       "                          'min_samples_leaf': [2, 3, 4],\n",
       "                          'min_samples_split': [2, 3],\n",
       "                          'n_estimators': [200, 220, 240, 260],\n",
       "                          'subsample': [0.8, 0.9]}],\n",
       "             pre_dispatch='2*n_jobs', refit=True, return_train_score=True,\n",
       "             scoring='neg_mean_squared_error', verbose=True)"
      ]
     },
     "execution_count": 715,
     "metadata": {},
     "output_type": "execute_result"
    }
   ],
   "source": [
    "gb_param_grid = [{'loss': ['ls'],\n",
    "         'learning_rate': [0.05, 0.1, 0.15],\n",
    "         'n_estimators': [200, 220, 240, 260],\n",
    "         'subsample': [0.8, 0.9],\n",
    "         'min_samples_split': [2, 3],\n",
    "         'min_samples_leaf': [2, 3, 4],\n",
    "         'max_depth': [4, 5, 6, 7],\n",
    "         'max_features': ['sqrt'],\n",
    "        }]\n",
    "\n",
    "gb_reg = GradientBoostingRegressor()\n",
    "\n",
    "gb_grid_search = GridSearchCV(gb_reg, gb_param_grid, cv=5,\n",
    "                                  scoring=\"neg_mean_squared_error\",\n",
    "                                  return_train_score=True,\n",
    "                                  verbose=True,\n",
    "                                  n_jobs=-1)\n",
    "\n",
    "gb_grid_search.fit(cars_prepared, y_train)"
   ]
  },
  {
   "cell_type": "code",
   "execution_count": 716,
   "metadata": {},
   "outputs": [
    {
     "data": {
      "text/plain": [
       "GradientBoostingRegressor(alpha=0.9, criterion='friedman_mse', init=None,\n",
       "                          learning_rate=0.1, loss='ls', max_depth=7,\n",
       "                          max_features='sqrt', max_leaf_nodes=None,\n",
       "                          min_impurity_decrease=0.0, min_impurity_split=None,\n",
       "                          min_samples_leaf=4, min_samples_split=3,\n",
       "                          min_weight_fraction_leaf=0.0, n_estimators=200,\n",
       "                          n_iter_no_change=None, presort='auto',\n",
       "                          random_state=None, subsample=0.9, tol=0.0001,\n",
       "                          validation_fraction=0.1, verbose=0, warm_start=False)"
      ]
     },
     "execution_count": 716,
     "metadata": {},
     "output_type": "execute_result"
    }
   ],
   "source": [
    "gb_grid_search.best_estimator_"
   ]
  },
  {
   "cell_type": "code",
   "execution_count": 717,
   "metadata": {},
   "outputs": [
    {
     "name": "stdout",
     "output_type": "stream",
     "text": [
      "(1662.9664520824047, {'learning_rate': 0.1, 'loss': 'ls', 'max_depth': 7, 'max_features': 'sqrt', 'min_samples_leaf': 4, 'min_samples_split': 3, 'n_estimators': 200, 'subsample': 0.9})\n",
      "(1662.979587035745, {'learning_rate': 0.05, 'loss': 'ls', 'max_depth': 7, 'max_features': 'sqrt', 'min_samples_leaf': 3, 'min_samples_split': 3, 'n_estimators': 220, 'subsample': 0.9})\n",
      "(1664.0236462302769, {'learning_rate': 0.1, 'loss': 'ls', 'max_depth': 7, 'max_features': 'sqrt', 'min_samples_leaf': 4, 'min_samples_split': 3, 'n_estimators': 200, 'subsample': 0.8})\n",
      "(1665.081655531237, {'learning_rate': 0.1, 'loss': 'ls', 'max_depth': 7, 'max_features': 'sqrt', 'min_samples_leaf': 4, 'min_samples_split': 2, 'n_estimators': 220, 'subsample': 0.8})\n",
      "(1666.1270851513218, {'learning_rate': 0.1, 'loss': 'ls', 'max_depth': 6, 'max_features': 'sqrt', 'min_samples_leaf': 3, 'min_samples_split': 3, 'n_estimators': 200, 'subsample': 0.9})\n"
     ]
    }
   ],
   "source": [
    "cvres = gb_grid_search.cv_results_\n",
    "\n",
    "grid_search_top_scores(cvres, 5)"
   ]
  },
  {
   "cell_type": "markdown",
   "metadata": {},
   "source": [
    "## Ensemble: Random Forest & Gradient Boosting\n",
    "\n",
    "Another way to fine-tune your system is to try and combine the models that perform best. The group (or “ensemble”) will often perform better than the best individual model. Now that we tuned our hyperparameters of our best two models let’s try and combine them to improve our best score even more.\n",
    "\n",
    "This is relatively easy to do with Scikit-Learn’s VotingRegressor() class which allows us to take the average prediction of our Random Forest Regressor and Gradient Boosting Regressor."
   ]
  },
  {
   "cell_type": "code",
   "execution_count": 718,
   "metadata": {},
   "outputs": [],
   "source": [
    "from sklearn.ensemble import VotingRegressor\n",
    "\n",
    "forest_reg = RandomForestRegressor(**forest_grid_search.best_params_)\n",
    "gb_reg = GradientBoostingRegressor(**gb_grid_search.best_params_)\n",
    "\n",
    "forest_gb_reg = VotingRegressor([(\"forest_reg\", forest_reg), (\"gb_reg\", gb_reg)])\n",
    "\n",
    "forest_gb_reg_scores = np.sqrt(-cross_val_score(forest_gb_reg, cars_prepared, y_train, cv=10,\n",
    "                                         scoring=\"neg_mean_squared_error\"))"
   ]
  },
  {
   "cell_type": "code",
   "execution_count": 719,
   "metadata": {},
   "outputs": [
    {
     "name": "stdout",
     "output_type": "stream",
     "text": [
      "Scores: [1383.17596721 1758.03775971 2183.87871632 1698.43792576 1395.56685939\n",
      " 1708.16611464 1479.2306284  1642.28144505 1397.89487006 1339.17569663]\n",
      "Mean: 1598.584598316986\n",
      "Standard deviation: 245.21715304935594\n"
     ]
    }
   ],
   "source": [
    "display_scores(forest_gb_reg_scores)"
   ]
  },
  {
   "cell_type": "markdown",
   "metadata": {},
   "source": [
    "Look at that it worked! Our mean RMSE is under 1600! Now that we have our best model it is time to analyze its errors. But first let’s make one last box plot comparing the four best models."
   ]
  },
  {
   "cell_type": "code",
   "execution_count": 812,
   "metadata": {},
   "outputs": [
    {
     "name": "stdout",
     "output_type": "stream",
     "text": [
      "Saving figure best_models_box_plot_scores\n"
     ]
    },
    {
     "data": {
      "image/png": "[encoded data removed]",
      "text/plain": [
       "<Figure size 576x432 with 1 Axes>"
      ]
     },
     "metadata": {
      "needs_background": "light"
     },
     "output_type": "display_data"
    }
   ],
   "source": [
    "plt.figure(figsize=(8, 6))\n",
    "plt.plot([1]*10, poly_reg_scores, \".\")\n",
    "plt.plot([2]*10, forest_reg_scores, \".\")\n",
    "plt.plot([3]*10, gb_reg_scores, \".\")\n",
    "plt.plot([4]*10, forest_gb_reg_scores, \".\")\n",
    "plt.boxplot([poly_reg_scores, forest_reg_scores, gb_reg_scores, forest_gb_reg_scores],\n",
    "            labels=(\"Poly Regression\", \"Random Forest\", \"Gradient Boosting\", \"Ensemble (RF & GB)\"))\n",
    "plt.ylabel(\"RMSE\", fontsize=14)\n",
    "plt.grid(True)\n",
    "save_fig(\"best_models_box_plot_scores\")\n",
    "plt.show()"
   ]
  },
  {
   "cell_type": "markdown",
   "metadata": {},
   "source": [
    "Let’s save the best models so that we can come back easily to any of them!"
   ]
  },
  {
   "cell_type": "code",
   "execution_count": 728,
   "metadata": {},
   "outputs": [],
   "source": [
    "import joblib\n",
    "\n",
    "forest_gb_reg.fit(cars_prepared, y_train)\n",
    "\n",
    "MODELS_PATH = os.path.join(PROJECT_ROOT_DIR, \"models/\")\n",
    "os.makedirs(MODELS_PATH, exist_ok=True)\n",
    "\n",
    "for model, name in zip([gb_grid_search.best_estimator_, forest_grid_search.best_estimator_, forest_gb_reg],\n",
    "                       [\"gradient_boosting_reg\", \"forest_reg\", \"ensemble_(RF_&_GB)\"]):\n",
    "    joblib.dump(model, MODELS_PATH + name)"
   ]
  },
  {
   "cell_type": "markdown",
   "metadata": {},
   "source": [
    "# Analyze best model and errors\n",
    "\n",
    "We will use cross_val_predict to get a clean prediction on every instance in our training set (“clean” meaning that the prediction is made by a model that never saw the data during training).\n",
    "\n",
    "Let’s plot our predicted price against the actual price. If all of our points were on the diagonal line that would mean our model is perfect and has an error of 0."
   ]
  },
  {
   "cell_type": "code",
   "execution_count": 730,
   "metadata": {},
   "outputs": [],
   "source": [
    "from sklearn.model_selection import cross_val_predict\n",
    "\n",
    "preds = cross_val_predict(forest_gb_reg, cars_prepared, y_train, cv=10)"
   ]
  },
  {
   "cell_type": "code",
   "execution_count": 734,
   "metadata": {},
   "outputs": [
    {
     "name": "stdout",
     "output_type": "stream",
     "text": [
      "Saving figure actual_vs_predicted_price\n"
     ]
    },
    {
     "data": {
      "image/png": "[encoded data removed]",
      "text/plain": [
       "<Figure size 576x432 with 1 Axes>"
      ]
     },
     "metadata": {
      "needs_background": "light"
     },
     "output_type": "display_data"
    }
   ],
   "source": [
    "fig, ax = plt.subplots(figsize=(8,6))\n",
    "ax.scatter(preds, y_train)\n",
    "ax.plot(y_train, y_train, color='#dd2762')\n",
    "ax.spines['top'].set_visible(False)\n",
    "ax.spines['right'].set_visible(False)\n",
    "plt.xlabel('Predicted Price', fontsize=12)\n",
    "plt.ylabel('Actual Price', fontsize=12)\n",
    "plt.grid()\n",
    "save_fig(\"actual_vs_predicted_price\");"
   ]
  },
  {
   "cell_type": "markdown",
   "metadata": {},
   "source": [
    "This looks pretty good our errors are normally distributed opposed to missing low for one region and high for another. All that’s left is to evaluate on the test set and get one final performance check. Thankfully the test set is easy to prepare using the pipeline we created earlier!"
   ]
  },
  {
   "cell_type": "markdown",
   "metadata": {},
   "source": [
    "# Evaluate system on the test set"
   ]
  },
  {
   "cell_type": "code",
   "execution_count": 770,
   "metadata": {},
   "outputs": [],
   "source": [
    "test_set.drop(1032, axis=0, inplace=True)\n",
    "X_test = test_set.drop(\"Price\", axis=1)\n",
    "y_test = test_set[\"Price\"].copy()\n",
    "X_test = X_test[cols]\n",
    "X_test_prepared = full_pipeline.fit_transform(X_test)"
   ]
  },
  {
   "cell_type": "code",
   "execution_count": 771,
   "metadata": {},
   "outputs": [
    {
     "data": {
      "text/plain": [
       "2207.826617808032"
      ]
     },
     "execution_count": 771,
     "metadata": {},
     "output_type": "execute_result"
    }
   ],
   "source": [
    "from sklearn.metrics import mean_squared_error\n",
    "\n",
    "final_predictions = forest_gb_reg.predict(X_test_prepared)\n",
    "final_mse = mean_squared_error(y_test, final_predictions)\n",
    "final_rmse = np.sqrt(final_mse)\n",
    "final_rmse"
   ]
  },
  {
   "cell_type": "code",
   "execution_count": 772,
   "metadata": {},
   "outputs": [
    {
     "data": {
      "text/plain": [
       "array([1897.65806784, 2479.49402221])"
      ]
     },
     "execution_count": 772,
     "metadata": {},
     "output_type": "execute_result"
    }
   ],
   "source": [
    "from scipy import stats\n",
    "\n",
    "confidence = 0.95\n",
    "squared_errors = (final_predictions - y_test) ** 2\n",
    "np.sqrt(stats.t.interval(confidence, len(squared_errors) - 1,\n",
    "                         loc=squared_errors.mean(),\n",
    "                         scale=stats.sem(squared_errors)))"
   ]
  },
  {
   "cell_type": "markdown",
   "metadata": {},
   "source": [
    "It seems we might’ve overfitted our training set a bit. It might be tempting to go back and try to perform better on the test set but then we risk overfitting the test set. We will leave it be as it is still in the range of scores we got on our training set."
   ]
  },
  {
   "cell_type": "markdown",
   "metadata": {},
   "source": [
    "# Conclusions\n",
    "\n",
    "Now back to the original problem. Should you buy or lease your next car?\n",
    "Now that we have our final model and performance score on the test set we can use it to predict the prices of Acura TLXs with features corresponding to various leases. The leases we use for comparison are from Acura’s website. Let’s look at multiple different lease terms and see what we find out!\n",
    "The cars we predict have the following features and leases:\n",
    "\n",
    "<img src=\"images/leases_of_cars_table.png\" width=\"1000\" height=\"1000\">"
   ]
  },
  {
   "cell_type": "markdown",
   "metadata": {},
   "source": [
    "For each of the cars listed above we will predict depreciation each year up to the term of the lease.  "
   ]
  },
  {
   "cell_type": "code",
   "execution_count": 817,
   "metadata": {},
   "outputs": [
    {
     "data": {
      "text/html": [
       "<div>\n",
       "<style scoped>\n",
       "    .dataframe tbody tr th:only-of-type {\n",
       "        vertical-align: middle;\n",
       "    }\n",
       "\n",
       "    .dataframe tbody tr th {\n",
       "        vertical-align: top;\n",
       "    }\n",
       "\n",
       "    .dataframe thead th {\n",
       "        text-align: right;\n",
       "    }\n",
       "</style>\n",
       "<table border=\"1\" class=\"dataframe\">\n",
       "  <thead>\n",
       "    <tr style=\"text-align: right;\">\n",
       "      <th></th>\n",
       "      <th>Price</th>\n",
       "      <th>Year</th>\n",
       "      <th>Mileage</th>\n",
       "      <th>Accidents</th>\n",
       "      <th>Drive</th>\n",
       "      <th>Engine</th>\n",
       "      <th>Trim</th>\n",
       "    </tr>\n",
       "  </thead>\n",
       "  <tbody>\n",
       "    <tr>\n",
       "      <td>0</td>\n",
       "      <td>40100</td>\n",
       "      <td>2019</td>\n",
       "      <td>12000</td>\n",
       "      <td>0</td>\n",
       "      <td>FWD</td>\n",
       "      <td>3.5L V-6</td>\n",
       "      <td>3.5L FWD with Technology Package</td>\n",
       "    </tr>\n",
       "    <tr>\n",
       "      <td>1</td>\n",
       "      <td>40100</td>\n",
       "      <td>2018</td>\n",
       "      <td>24000</td>\n",
       "      <td>0</td>\n",
       "      <td>FWD</td>\n",
       "      <td>3.5L V-6</td>\n",
       "      <td>3.5L FWD with Technology Package</td>\n",
       "    </tr>\n",
       "    <tr>\n",
       "      <td>2</td>\n",
       "      <td>40100</td>\n",
       "      <td>2017</td>\n",
       "      <td>36000</td>\n",
       "      <td>0</td>\n",
       "      <td>FWD</td>\n",
       "      <td>3.5L V-6</td>\n",
       "      <td>3.5L FWD with Technology Package</td>\n",
       "    </tr>\n",
       "    <tr>\n",
       "      <td>3</td>\n",
       "      <td>36700</td>\n",
       "      <td>2019</td>\n",
       "      <td>10000</td>\n",
       "      <td>0</td>\n",
       "      <td>FWD</td>\n",
       "      <td>2.4L Inline-4</td>\n",
       "      <td>2.4L FWD with Technology Package</td>\n",
       "    </tr>\n",
       "    <tr>\n",
       "      <td>4</td>\n",
       "      <td>36700</td>\n",
       "      <td>2018</td>\n",
       "      <td>20000</td>\n",
       "      <td>0</td>\n",
       "      <td>FWD</td>\n",
       "      <td>2.4L Inline-4</td>\n",
       "      <td>2.4L FWD with Technology Package</td>\n",
       "    </tr>\n",
       "    <tr>\n",
       "      <td>5</td>\n",
       "      <td>44800</td>\n",
       "      <td>2019</td>\n",
       "      <td>12000</td>\n",
       "      <td>0</td>\n",
       "      <td>SH-AWD</td>\n",
       "      <td>3.5L V-6</td>\n",
       "      <td>3.5L SH-AWD with A-Spec Package Red Leather</td>\n",
       "    </tr>\n",
       "    <tr>\n",
       "      <td>6</td>\n",
       "      <td>44800</td>\n",
       "      <td>2018</td>\n",
       "      <td>24000</td>\n",
       "      <td>0</td>\n",
       "      <td>SH-AWD</td>\n",
       "      <td>3.5L V-6</td>\n",
       "      <td>3.5L SH-AWD with A-Spec Package Red Leather</td>\n",
       "    </tr>\n",
       "    <tr>\n",
       "      <td>7</td>\n",
       "      <td>44800</td>\n",
       "      <td>2017</td>\n",
       "      <td>36000</td>\n",
       "      <td>0</td>\n",
       "      <td>SH-AWD</td>\n",
       "      <td>3.5L V-6</td>\n",
       "      <td>3.5L SH-AWD with A-Spec Package Red Leather</td>\n",
       "    </tr>\n",
       "    <tr>\n",
       "      <td>8</td>\n",
       "      <td>44800</td>\n",
       "      <td>2016</td>\n",
       "      <td>48000</td>\n",
       "      <td>0</td>\n",
       "      <td>SH-AWD</td>\n",
       "      <td>3.5L V-6</td>\n",
       "      <td>3.5L SH-AWD with A-Spec Package Red Leather</td>\n",
       "    </tr>\n",
       "  </tbody>\n",
       "</table>\n",
       "</div>"
      ],
      "text/plain": [
       "   Price  Year  Mileage  Accidents   Drive         Engine  \\\n",
       "0  40100  2019    12000          0     FWD       3.5L V-6   \n",
       "1  40100  2018    24000          0     FWD       3.5L V-6   \n",
       "2  40100  2017    36000          0     FWD       3.5L V-6   \n",
       "3  36700  2019    10000          0     FWD  2.4L Inline-4   \n",
       "4  36700  2018    20000          0     FWD  2.4L Inline-4   \n",
       "5  44800  2019    12000          0  SH-AWD       3.5L V-6   \n",
       "6  44800  2018    24000          0  SH-AWD       3.5L V-6   \n",
       "7  44800  2017    36000          0  SH-AWD       3.5L V-6   \n",
       "8  44800  2016    48000          0  SH-AWD       3.5L V-6   \n",
       "\n",
       "                                          Trim  \n",
       "0             3.5L FWD with Technology Package  \n",
       "1             3.5L FWD with Technology Package  \n",
       "2             3.5L FWD with Technology Package  \n",
       "3             2.4L FWD with Technology Package  \n",
       "4             2.4L FWD with Technology Package  \n",
       "5  3.5L SH-AWD with A-Spec Package Red Leather  \n",
       "6  3.5L SH-AWD with A-Spec Package Red Leather  \n",
       "7  3.5L SH-AWD with A-Spec Package Red Leather  \n",
       "8  3.5L SH-AWD with A-Spec Package Red Leather  "
      ]
     },
     "execution_count": 817,
     "metadata": {},
     "output_type": "execute_result"
    }
   ],
   "source": [
    "acura_tlxs = {\"Price\": [40100, 40100, 40100,\n",
    "                        36700, 36700, \n",
    "                        44800, 44800, 44800, 44800],\n",
    "             \"Year\": [2019, 2018, 2017,\n",
    "                      2019, 2018, \n",
    "                      2019, 2018, 2017, 2016],\n",
    "             \"Mileage\": [12000, 24000, 36000,\n",
    "                         10000, 20000, \n",
    "                         12000, 24000, 36000, 48000],\n",
    "             \"Accidents\": [0, 0, 0,\n",
    "                           0, 0,\n",
    "                           0, 0, 0, 0],\n",
    "             \"Drive\": [\"FWD\", \"FWD\", \"FWD\",\n",
    "                       \"FWD\", \"FWD\", \n",
    "                       \"SH-AWD\", \"SH-AWD\", \"SH-AWD\", \"SH-AWD\"], \n",
    "             \"Engine\": [\"3.5L V-6\", \"3.5L V-6\", \"3.5L V-6\",\n",
    "                        \"2.4L Inline-4\", \"2.4L Inline-4\",\n",
    "                        \"3.5L V-6\", \"3.5L V-6\", \"3.5L V-6\", \"3.5L V-6\"],\n",
    "             \"Trim\": [\"3.5L FWD with Technology Package\", \"3.5L FWD with Technology Package\", \"3.5L FWD with Technology Package\",\n",
    "                      \"2.4L FWD with Technology Package\", \"2.4L FWD with Technology Package\",\n",
    "                      \"3.5L SH-AWD with A-Spec Package Red Leather\", \"3.5L SH-AWD with A-Spec Package Red Leather\", \"3.5L SH-AWD with A-Spec Package Red Leather\", \"3.5L SH-AWD with A-Spec Package Red Leather\"\n",
    "        ]}\n",
    "acura_tlxs = pd.DataFrame(acura_tlxs)\n",
    "acura_tlxs"
   ]
  },
  {
   "cell_type": "markdown",
   "metadata": {},
   "source": [
    "We concat with the original training data first to ensure every OneHotEncoded categorical variable exists as a column.  "
   ]
  },
  {
   "cell_type": "code",
   "execution_count": 818,
   "metadata": {},
   "outputs": [
    {
     "name": "stderr",
     "output_type": "stream",
     "text": [
      "//anaconda3/envs/metis/lib/python3.7/site-packages/ipykernel_launcher.py:3: FutureWarning: Sorting because non-concatenation axis is not aligned. A future version\n",
      "of pandas will change to not sort by default.\n",
      "\n",
      "To accept the future behavior, pass 'sort=False'.\n",
      "\n",
      "To retain the current behavior and silence the warning, pass 'sort=True'.\n",
      "\n",
      "  This is separate from the ipykernel package so we can avoid doing imports until\n"
     ]
    }
   ],
   "source": [
    "X_acura_tlxs = acura_tlxs.drop(\"Price\", axis=1)\n",
    "\n",
    "acura_tlxs = pd.concat([X_train, acura_tlxs], axis=0)\n",
    "acura_tlxs_prepared = full_pipeline.fit_transform(acura_tlxs)[-9:, :]"
   ]
  },
  {
   "cell_type": "code",
   "execution_count": 819,
   "metadata": {},
   "outputs": [
    {
     "data": {
      "text/plain": [
       "(9, 32)"
      ]
     },
     "execution_count": 819,
     "metadata": {},
     "output_type": "execute_result"
    }
   ],
   "source": [
    "acura_tlxs_prepared.shape"
   ]
  },
  {
   "cell_type": "code",
   "execution_count": 879,
   "metadata": {},
   "outputs": [],
   "source": [
    "acura_tlxs_preds = forest_gb_reg.predict(acura_tlxs_prepared)\n",
    "\n",
    "lease_1_preds = np.insert(acura_tlxs_preds[:3], 0, 40100, axis=0)\n",
    "lease_1_dep = 40100 - lease_1_preds\n",
    "lease_1_cost = np.array([0, 9312, 18624, 27936])\n",
    "lease_1_values = 40100 - np.array([0, 9312, 18624, 27936])\n",
    "\n",
    "lease_2_dep = 36700 - lease_2_preds\n",
    "lease_2_preds = np.insert(acura_tlxs_preds[3:5], 0, 36700, axis=0)\n",
    "lease_2_cost = np.array([0, 11412, 22824])\n",
    "lease_2_values = 36700 - np.array([0, 11412, 22824])\n",
    "\n",
    "lease_3_dep = 44800 - lease_3_preds\n",
    "lease_3_preds = np.insert(acura_tlxs_preds[5:], 0, 44800, axis=0)\n",
    "lease_3_cost = np.array([0, 9024, 18048, 27072, 36096])\n",
    "lease_3_values = 44800 - np.array([0, 9024, 18048, 27072, 36096])"
   ]
  },
  {
   "cell_type": "code",
   "execution_count": 880,
   "metadata": {},
   "outputs": [
    {
     "data": {
      "text/plain": [
       "array([    0,  9312, 18624, 27936])"
      ]
     },
     "execution_count": 880,
     "metadata": {},
     "output_type": "execute_result"
    }
   ],
   "source": [
    "lease_1_cost"
   ]
  },
  {
   "cell_type": "code",
   "execution_count": 892,
   "metadata": {},
   "outputs": [
    {
     "name": "stdout",
     "output_type": "stream",
     "text": [
      "Saving figure predictions_vs_cost_of_lease\n"
     ]
    },
    {
     "data": {
      "image/png": "[encoded data removed]",
      "text/plain": [
       "<Figure size 1152x360 with 3 Axes>"
      ]
     },
     "metadata": {
      "needs_background": "light"
     },
     "output_type": "display_data"
    }
   ],
   "source": [
    "fig, axes = plt.subplots(1, 3, sharex=False, sharey=True, figsize=(16, 5))\n",
    "\n",
    "ax = axes[0]\n",
    "ax.grid(True)\n",
    "ax.plot([0, 1, 2, 3], lease_1_preds, \"r-\", linewidth=2, label=\"Prediction\")\n",
    "ax.plot([0, 1, 2, 3], lease_1_values, \"b-\", linewidth=2, label=\"Cost of Lease\")\n",
    "ax.fill_between([0, 1, 2, 3], (lease_1_preds - final_rmse), (lease_1_preds + final_rmse), alpha=0.1)\n",
    "ax.set_xticks([0, 1, 2, 3])\n",
    "ax.set_xticklabels([\"2020\", \"2019\", \"2018\", \"2017\"])\n",
    "ax.set_xlabel(\"Year\", fontsize=15)\n",
    "ax.set_ylabel(\"Price\", rotation=90, fontsize=15)\n",
    "ax.set_title(\"V-6 FWD Technology Package\")\n",
    "ax.legend(loc=\"upper right\", fontsize=14)\n",
    "\n",
    "ax = axes[1]\n",
    "ax.grid(True)\n",
    "ax.plot([0, 1, 2], lease_2_preds, \"r-\", linewidth=2, label=\"Prediction\")\n",
    "ax.plot([0, 1, 2], lease_2_values, \"b-\", linewidth=2, label=\"Cost of Lease\")\n",
    "ax.fill_between([0, 1, 2], (lease_2_preds - final_rmse), (lease_2_preds + final_rmse), alpha=0.1)\n",
    "ax.set_xticks([0, 1, 2])\n",
    "ax.set_xticklabels([\"2020\", \"2019\", \"2018\"])\n",
    "ax.set_xlabel(\"Year\", fontsize=15)\n",
    "ax.set_title(\"Inline-4 FWD Technology Package\")\n",
    "ax.legend(loc=\"upper right\", fontsize=14)\n",
    "\n",
    "ax = axes[2]\n",
    "ax.grid(True)\n",
    "ax.plot([0, 1, 2, 3, 4], lease_3_preds, \"r-\", linewidth=2, label=\"Prediction\")\n",
    "ax.plot([0, 1, 2, 3, 4], lease_3_values, \"b-\", linewidth=2, label=\"Cost of Lease\")\n",
    "ax.fill_between([0, 1, 2, 3, 4], (lease_3_preds - final_rmse), (lease_3_preds + final_rmse), alpha=0.1)\n",
    "ax.set_xticks([0, 1, 2, 3, 4])\n",
    "ax.set_xticklabels([\"2020\", \"2019\", \"2018\", \"2017\", \"2016\"])\n",
    "ax.set_xlabel(\"Year\", fontsize=15)\n",
    "ax.set_title(\"V-6 SH-AWD A-Spec Red Package\")\n",
    "ax.legend(loc=\"upper right\", fontsize=14)\n",
    "save_fig(\"predictions_vs_cost_of_lease\");"
   ]
  },
  {
   "cell_type": "code",
   "execution_count": 893,
   "metadata": {},
   "outputs": [
    {
     "name": "stdout",
     "output_type": "stream",
     "text": [
      "Saving figure depreciation_vs_cost_of_lease\n"
     ]
    },
    {
     "data": {
      "image/png": "[encoded data removed]",
      "text/plain": [
       "<Figure size 1152x360 with 3 Axes>"
      ]
     },
     "metadata": {
      "needs_background": "light"
     },
     "output_type": "display_data"
    }
   ],
   "source": [
    "fig, axes = plt.subplots(1, 3, sharex=False, sharey=True, figsize=(16, 5))\n",
    "\n",
    "ax = axes[0]\n",
    "ax.grid(True)\n",
    "ax.plot([0, 1, 2, 3], lease_1_dep, \"r-\", linewidth=2, label=\"Depreciation\")\n",
    "ax.plot([0, 1, 2, 3], lease_1_cost, \"b-\", linewidth=2, label=\"Cost of Lease\")\n",
    "ax.fill_between([0, 1, 2, 3], (lease_1_dep - final_rmse), (lease_1_dep + final_rmse), alpha=0.1)\n",
    "ax.set_xticks([0, 1, 2, 3])\n",
    "ax.set_xticklabels([\"2020\", \"2019\", \"2018\", \"2017\"])\n",
    "ax.set_xlabel(\"Year\", fontsize=15)\n",
    "ax.set_ylabel(\"Price\", rotation=90, fontsize=15)\n",
    "ax.set_title(\"V-6 FWD Technology Package\")\n",
    "ax.legend(loc=\"upper left\", fontsize=14)\n",
    "\n",
    "ax = axes[1]\n",
    "ax.grid(True)\n",
    "ax.plot([0, 1, 2], lease_2_dep, \"r-\", linewidth=2, label=\"Depreciation\")\n",
    "ax.plot([0, 1, 2], lease_2_cost, \"b-\", linewidth=2, label=\"Cost of Lease\")\n",
    "ax.fill_between([0, 1, 2], (lease_2_dep - final_rmse), (lease_2_dep + final_rmse), alpha=0.1)\n",
    "ax.set_xticks([0, 1, 2])\n",
    "ax.set_xticklabels([\"2020\", \"2019\", \"2018\"])\n",
    "ax.set_xlabel(\"Year\", fontsize=15)\n",
    "ax.set_title(\"Inline-4 FWD Technology Package\")\n",
    "ax.legend(loc=\"upper left\", fontsize=14)\n",
    "\n",
    "ax = axes[2]\n",
    "ax.grid(True)\n",
    "ax.plot([0, 1, 2, 3, 4], lease_3_dep, \"r-\", linewidth=2, label=\"Depreciation\")\n",
    "ax.plot([0, 1, 2, 3, 4], lease_3_cost, \"b-\", linewidth=2, label=\"Cost of Lease\")\n",
    "ax.fill_between([0, 1, 2, 3, 4], (lease_3_dep - final_rmse), (lease_3_dep + final_rmse), alpha=0.1)\n",
    "ax.set_xticks([0, 1, 2, 3, 4])\n",
    "ax.set_xticklabels([\"2020\", \"2019\", \"2018\", \"2017\", \"2016\"])\n",
    "ax.set_xlabel(\"Year\", fontsize=15)\n",
    "ax.set_title(\"V-6 SH-AWD A-Spec Red Package\")\n",
    "ax.legend(loc=\"upper left\", fontsize=14)\n",
    "save_fig(\"depreciation_vs_cost_of_lease\");"
   ]
  },
  {
   "cell_type": "markdown",
   "metadata": {},
   "source": [
    "And here are the predicted depreciation costs and leases compared for the three different trims. The red line represents the predicted depreciation cost while the blue line represents the cost of the lease. The shaded area represents the 95% confidence intervals around our predicted depreciation. We see that in all three cases the lease is a lot more expensive.\n",
    "\n",
    "You can save up to $10,000 if you choose to buy the car new. Leasing happens to be a lot more expensive even for one of the best rated cars.  "
   ]
  },
  {
   "cell_type": "markdown",
   "metadata": {},
   "source": [
    "## Future work\n",
    "\n",
    "After concluding the project, some ideas had popped in my head that I thought would be interesting:\n",
    "* We can model different cars who also have high rated leases and see by how much can you finance a new car that it will still be worth buying and reselling.\n",
    "* Ensembling seemed beneficial here from cross-validation but still performed poorly on the test set. Exploring why could be interesting. I wonder if all the other models would perform worse on the test set or our final model in fact wasn’t the best choice despite performing best on all folds of cross validation.\n",
    "* Take this problem further and try to model multiple car makes and models that can still predict accurately the value of the car.\n",
    "\n",
    "As always thank you for reading I hope you enjoyed it and learned something new and insightful!"
   ]
  }
 ],
 "metadata": {
  "kernelspec": {
   "display_name": "Python 3",
   "language": "python",
   "name": "python3"
  },
  "language_info": {
   "codemirror_mode": {
    "name": "ipython",
    "version": 3
   },
   "file_extension": ".py",
   "mimetype": "text/x-python",
   "name": "python",
   "nbconvert_exporter": "python",
   "pygments_lexer": "ipython3",
   "version": "3.7.3"
  },
  "toc": {
   "base_numbering": 1,
   "nav_menu": {},
   "number_sections": false,
   "sideBar": true,
   "skip_h1_title": false,
   "title_cell": "Table of Contents",
   "title_sidebar": "Contents",
   "toc_cell": false,
   "toc_position": {},
   "toc_section_display": true,
   "toc_window_display": false
  }
 },
 "nbformat": 4,
 "nbformat_minor": 2
}
